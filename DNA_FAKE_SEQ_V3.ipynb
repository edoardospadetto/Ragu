{
 "cells": [
  {
   "cell_type": "markdown",
   "metadata": {},
   "source": [
    "## Really complicated dna differentiation\n",
    "\n",
    "Imagine a chain of nucleotides, divided in genes and intragenic DNA. Genes must be functioning, so they have a pattern, intragenic DNA not, so it can be random.\n",
    "\n",
    "...intagrenic----gene----intragenic---gene---intragenic....\n",
    "\n",
    "GENES\n",
    "\n",
    "We have N genes Genes have the same order among neanderthal and humans:\n",
    "\n",
    "Hair--Height--Eyes--Beard.. <- Neanderthal Hair--Height--Eyes--Beard.. <- Human\n",
    "\n",
    "Humans and neanderthal are similar, so they have similar genes. Hence for a sigle gene i decided to have different variants, like brown hair, blond hairs, but they have to differ for small variation otherwise you would be bald.\n",
    "\n",
    "From a logic point of view, change a small number of nucleotides from a random sequence so you have the variants, but they keep the same lenght in all the variants.\n",
    "\n",
    "Genes have correlations between themselves, decided randomly between a random number of genes. For example Genes 1,8,15 are correlated in humans, correlations between 3 elements-> why? 3 is sampled from a \"discrete gaussian\", why 1,8,15 choseen random.\n",
    "\n",
    "INTRAGENIC\n",
    "\n",
    "We have N+1 intragenic sequence, of variable lenght interposed between genes.\n",
    "\n",
    "How humans differ from neanderthal??\n",
    "\n",
    "Intragenic dna different in lenght, for example in a human intragenic dna between genes 1 and 2, contains 100 nucleotides, while in the neanderthal 90. Correlations between different genes. like neanderthal correlates Nose and Beard, while human Height and Fat percentage.\n",
    "\n",
    "How humans differ from humans and neanderthal from neanderthal?\n",
    "\n",
    "Same intragenic lenght, but different nucleotides. Different genes variants.\n"
   ]
  },
  {
   "cell_type": "code",
   "execution_count": 1,
   "metadata": {},
   "outputs": [],
   "source": [
    "#Manopole\n",
    "#decide the percentage of geneDNA in a sentence.\n",
    "pc_genes=0.8\n",
    "\n",
    "#How many genes?\n",
    "N_genes= 30\n",
    "\n",
    "#Choose genes to correlate\n",
    "\n",
    "#How many?\n",
    "avg_dimension_of_correlation_clusters=10\n",
    "\n",
    "b=0.5 #how different are different genes ? max 0.5\n",
    "fraction_of_mutations_per_gene=0.3#percentage of random mutations in gene variants\n",
    "variants=4 #how may variants?\n",
    "\n",
    "det=0.1   #how much deterministic is the markov chain 0 MAX 0.25 Min  shuffle(prob(det det det 1-3*det))\n",
    "forward_mc = False#do you want forward markov chain?\n",
    "\n",
    "\n",
    "N_people= 3000\n",
    "sentence_length= 1000 #HOW LONG A SENTENCE in letters\n",
    "word_length=5 #HOW LONG A WORD in letters\n",
    "\n",
    "#do you want same intragenic location in neanderthals and humans?\n",
    "same = True\n",
    "\n",
    "#Sorry i did not implemented different genes.."
   ]
  },
  {
   "cell_type": "code",
   "execution_count": 2,
   "metadata": {},
   "outputs": [
    {
     "name": "stdout",
     "output_type": "stream",
     "text": [
      "800.0\n",
      "200.0\n",
      "[ 5.  4. 13. 10.  7.  8.  6.  4.  8.  4.  4.  7.  8. 13.  8.  5.  3.  8.\n",
      " 11.  5.  3.  2.  7.  5.  4.  7.  7.  4.  7. 13.  0.]\n",
      "[ 5.  4. 13. 10.  7.  8.  6.  4.  8.  4.  4.  7.  8. 13.  8.  5.  3.  8.\n",
      " 11.  5.  3.  2.  7.  5.  4.  7.  7.  4.  7. 13.  0.]\n",
      "[22. 36. 32. 26. 30. 25. 20. 30. 22. 32. 32. 28. 25. 34. 27. 27. 25. 30.\n",
      " 20. 28. 13. 26. 26. 26. 32. 26. 28. 35. 13. 24.]\n"
     ]
    }
   ],
   "source": [
    "\n",
    "import numpy as np\n",
    "import pandas as pd\n",
    "\n",
    "\n",
    "#Build Genes\n",
    "\n",
    "genes_nucleotides = (sentence_length*pc_genes) //1 \n",
    "intragenic_nucleotides= sentence_length - genes_nucleotides\n",
    "\n",
    "print(genes_nucleotides)\n",
    "print(intragenic_nucleotides)\n",
    "\n",
    "#How many intergenic sequences?\n",
    "N_intragenic=N_genes+1\n",
    "\n",
    "\n",
    "\n",
    "def split_in_different_leghts_sequence(how_many_nucleotides_for_genes, how_many_sequences):\n",
    "    N_n=how_many_nucleotides_for_genes\n",
    "    N_s=how_many_sequences\n",
    "    seqs=np.zeros(N_s)\n",
    "    for i in range(len(seqs)-1):\n",
    "        while(True):\n",
    "            ls=int(np.random.poisson((N_n/N_s)))\n",
    "            if ls>1: \n",
    "                break\n",
    "        N_n=N_n-ls\n",
    "        N_s=N_s-1\n",
    "        seqs[i]=int(ls)\n",
    "    seqs[-1]=N_n\n",
    "    return(seqs)\n",
    "\n",
    "\n",
    "genes_char=split_in_different_leghts_sequence(genes_nucleotides, N_genes)\n",
    "intragenic_char_humans=split_in_different_leghts_sequence(intragenic_nucleotides, N_intragenic)\n",
    "if same == False : \n",
    "    intragenic_char_neanderthal=split_in_different_leghts_sequence(intragenic_nucleotides, N_intragenic)\n",
    "else :\n",
    "    intragenic_char_neanderthal=intragenic_char_humans\n",
    "\n",
    "\n",
    "print(intragenic_char_neanderthal)\n",
    "print(intragenic_char_humans)\n",
    "print(genes_char)\n",
    "\n",
    "#Now I have the characterization of all genic and intragenic sequences\n"
   ]
  },
  {
   "cell_type": "code",
   "execution_count": 3,
   "metadata": {},
   "outputs": [
    {
     "name": "stdout",
     "output_type": "stream",
     "text": [
      "4 1\n",
      "2 1\n",
      "15 9\n",
      "6 3\n",
      "5 3\n",
      "Theese are the correlation cluster, dont worry about the NAN it simply means that this cluster is smaller thna the number of columns\n",
      "human\n"
     ]
    },
    {
     "data": {
      "text/html": [
       "<div>\n",
       "<style scoped>\n",
       "    .dataframe tbody tr th:only-of-type {\n",
       "        vertical-align: middle;\n",
       "    }\n",
       "\n",
       "    .dataframe tbody tr th {\n",
       "        vertical-align: top;\n",
       "    }\n",
       "\n",
       "    .dataframe thead th {\n",
       "        text-align: right;\n",
       "    }\n",
       "</style>\n",
       "<table border=\"1\" class=\"dataframe\">\n",
       "  <thead>\n",
       "    <tr style=\"text-align: right;\">\n",
       "      <th></th>\n",
       "      <th>0</th>\n",
       "      <th>1</th>\n",
       "      <th>2</th>\n",
       "      <th>3</th>\n",
       "      <th>4</th>\n",
       "      <th>5</th>\n",
       "      <th>6</th>\n",
       "      <th>7</th>\n",
       "      <th>8</th>\n",
       "      <th>9</th>\n",
       "      <th>10</th>\n",
       "      <th>11</th>\n",
       "      <th>12</th>\n",
       "    </tr>\n",
       "  </thead>\n",
       "  <tbody>\n",
       "    <tr>\n",
       "      <th>0</th>\n",
       "      <td>5</td>\n",
       "      <td>19.0</td>\n",
       "      <td>10.0</td>\n",
       "      <td>25.0</td>\n",
       "      <td>20.0</td>\n",
       "      <td>26.0</td>\n",
       "      <td>9.0</td>\n",
       "      <td>17.0</td>\n",
       "      <td>23.0</td>\n",
       "      <td>NaN</td>\n",
       "      <td>NaN</td>\n",
       "      <td>NaN</td>\n",
       "      <td>NaN</td>\n",
       "    </tr>\n",
       "    <tr>\n",
       "      <th>1</th>\n",
       "      <td>4</td>\n",
       "      <td>14.0</td>\n",
       "      <td>3.0</td>\n",
       "      <td>2.0</td>\n",
       "      <td>7.0</td>\n",
       "      <td>21.0</td>\n",
       "      <td>18.0</td>\n",
       "      <td>24.0</td>\n",
       "      <td>0.0</td>\n",
       "      <td>28.0</td>\n",
       "      <td>27.0</td>\n",
       "      <td>22.0</td>\n",
       "      <td>15.0</td>\n",
       "    </tr>\n",
       "    <tr>\n",
       "      <th>2</th>\n",
       "      <td>29</td>\n",
       "      <td>11.0</td>\n",
       "      <td>13.0</td>\n",
       "      <td>1.0</td>\n",
       "      <td>12.0</td>\n",
       "      <td>6.0</td>\n",
       "      <td>16.0</td>\n",
       "      <td>NaN</td>\n",
       "      <td>NaN</td>\n",
       "      <td>NaN</td>\n",
       "      <td>NaN</td>\n",
       "      <td>NaN</td>\n",
       "      <td>NaN</td>\n",
       "    </tr>\n",
       "    <tr>\n",
       "      <th>3</th>\n",
       "      <td>8</td>\n",
       "      <td>NaN</td>\n",
       "      <td>NaN</td>\n",
       "      <td>NaN</td>\n",
       "      <td>NaN</td>\n",
       "      <td>NaN</td>\n",
       "      <td>NaN</td>\n",
       "      <td>NaN</td>\n",
       "      <td>NaN</td>\n",
       "      <td>NaN</td>\n",
       "      <td>NaN</td>\n",
       "      <td>NaN</td>\n",
       "      <td>NaN</td>\n",
       "    </tr>\n",
       "  </tbody>\n",
       "</table>\n",
       "</div>"
      ],
      "text/plain": [
       "    0     1     2     3     4     5     6     7     8     9    10    11    12\n",
       "0   5  19.0  10.0  25.0  20.0  26.0   9.0  17.0  23.0   NaN   NaN   NaN   NaN\n",
       "1   4  14.0   3.0   2.0   7.0  21.0  18.0  24.0   0.0  28.0  27.0  22.0  15.0\n",
       "2  29  11.0  13.0   1.0  12.0   6.0  16.0   NaN   NaN   NaN   NaN   NaN   NaN\n",
       "3   8   NaN   NaN   NaN   NaN   NaN   NaN   NaN   NaN   NaN   NaN   NaN   NaN"
      ]
     },
     "metadata": {},
     "output_type": "display_data"
    },
    {
     "name": "stdout",
     "output_type": "stream",
     "text": [
      "neandertal\n"
     ]
    },
    {
     "data": {
      "text/html": [
       "<div>\n",
       "<style scoped>\n",
       "    .dataframe tbody tr th:only-of-type {\n",
       "        vertical-align: middle;\n",
       "    }\n",
       "\n",
       "    .dataframe tbody tr th {\n",
       "        vertical-align: top;\n",
       "    }\n",
       "\n",
       "    .dataframe thead th {\n",
       "        text-align: right;\n",
       "    }\n",
       "</style>\n",
       "<table border=\"1\" class=\"dataframe\">\n",
       "  <thead>\n",
       "    <tr style=\"text-align: right;\">\n",
       "      <th></th>\n",
       "      <th>0</th>\n",
       "      <th>1</th>\n",
       "      <th>2</th>\n",
       "      <th>3</th>\n",
       "      <th>4</th>\n",
       "      <th>5</th>\n",
       "      <th>6</th>\n",
       "      <th>7</th>\n",
       "      <th>8</th>\n",
       "      <th>9</th>\n",
       "      <th>10</th>\n",
       "      <th>11</th>\n",
       "    </tr>\n",
       "  </thead>\n",
       "  <tbody>\n",
       "    <tr>\n",
       "      <th>0</th>\n",
       "      <td>3</td>\n",
       "      <td>11</td>\n",
       "      <td>22</td>\n",
       "      <td>21.0</td>\n",
       "      <td>23.0</td>\n",
       "      <td>18.0</td>\n",
       "      <td>27.0</td>\n",
       "      <td>4.0</td>\n",
       "      <td>20.0</td>\n",
       "      <td>NaN</td>\n",
       "      <td>NaN</td>\n",
       "      <td>NaN</td>\n",
       "    </tr>\n",
       "    <tr>\n",
       "      <th>1</th>\n",
       "      <td>6</td>\n",
       "      <td>29</td>\n",
       "      <td>25</td>\n",
       "      <td>28.0</td>\n",
       "      <td>15.0</td>\n",
       "      <td>17.0</td>\n",
       "      <td>2.0</td>\n",
       "      <td>0.0</td>\n",
       "      <td>13.0</td>\n",
       "      <td>16.0</td>\n",
       "      <td>7.0</td>\n",
       "      <td>19.0</td>\n",
       "    </tr>\n",
       "    <tr>\n",
       "      <th>2</th>\n",
       "      <td>9</td>\n",
       "      <td>26</td>\n",
       "      <td>12</td>\n",
       "      <td>14.0</td>\n",
       "      <td>8.0</td>\n",
       "      <td>24.0</td>\n",
       "      <td>NaN</td>\n",
       "      <td>NaN</td>\n",
       "      <td>NaN</td>\n",
       "      <td>NaN</td>\n",
       "      <td>NaN</td>\n",
       "      <td>NaN</td>\n",
       "    </tr>\n",
       "    <tr>\n",
       "      <th>3</th>\n",
       "      <td>5</td>\n",
       "      <td>1</td>\n",
       "      <td>10</td>\n",
       "      <td>NaN</td>\n",
       "      <td>NaN</td>\n",
       "      <td>NaN</td>\n",
       "      <td>NaN</td>\n",
       "      <td>NaN</td>\n",
       "      <td>NaN</td>\n",
       "      <td>NaN</td>\n",
       "      <td>NaN</td>\n",
       "      <td>NaN</td>\n",
       "    </tr>\n",
       "  </tbody>\n",
       "</table>\n",
       "</div>"
      ],
      "text/plain": [
       "   0   1   2     3     4     5     6    7     8     9   10    11\n",
       "0  3  11  22  21.0  23.0  18.0  27.0  4.0  20.0   NaN  NaN   NaN\n",
       "1  6  29  25  28.0  15.0  17.0   2.0  0.0  13.0  16.0  7.0  19.0\n",
       "2  9  26  12  14.0   8.0  24.0   NaN  NaN   NaN   NaN  NaN   NaN\n",
       "3  5   1  10   NaN   NaN   NaN   NaN  NaN   NaN   NaN  NaN   NaN"
      ]
     },
     "metadata": {},
     "output_type": "display_data"
    }
   ],
   "source": [
    "\n",
    "\n",
    "def correlate_genes(N_genes,cluster_dim):\n",
    "    clusters=[]\n",
    "    genes=[i for i in range((N_genes))]\n",
    "    while(len(genes) != 0):\n",
    "        while (True):\n",
    "            if(cluster_dim>len(genes)): cluster_dim = len(genes)\n",
    "            curr_cl= int(np.random.poisson((cluster_dim)))\n",
    "            if curr_cl <= len(genes) and curr_cl>0: break\n",
    "            else: print(curr_cl, len(genes))\n",
    "        clusters.append(np.random.choice(genes, curr_cl, False))\n",
    "        for c in clusters[-1]:\n",
    "            genes.remove(c)\n",
    "    return((clusters))\n",
    "\n",
    "corrs_human=correlate_genes(N_genes,avg_dimension_of_correlation_clusters)\n",
    "corrs_neanderthal=correlate_genes(N_genes,avg_dimension_of_correlation_clusters)\n",
    "\n",
    "    \n",
    "print(\"Theese are the correlation cluster, dont worry about the NAN it simply means that this cluster is smaller thna the number of columns\")       \n",
    "print(\"human\")\n",
    "display(pd.DataFrame(corrs_human)) \n",
    "print(\"neandertal\")\n",
    "display(pd.DataFrame(corrs_neanderthal))\n",
    "\n",
    "\n",
    "if(forward_mc == True):\n",
    "    for row in range(len(corrs_human)):\n",
    "        corrs_human[row] = np.sort(corrs_human[row])\n",
    "    for row in range(len(corrs_neanderthal)):\n",
    "        corrs_neanderthal[row] = np.sort(corrs_neanderthal[row])\n",
    "    print(\"SORTED:  \")\n",
    "    print(\"human\")\n",
    "    display(pd.DataFrame(corrs_human)) \n",
    "    print(\"neandertal\")\n",
    "    display(pd.DataFrame(corrs_neanderthal))\n",
    "\n",
    "\n",
    "        \n",
    "        #Now i got the genes that are correlated.\n",
    "#In future we can include different genes correlations between human and neanderthal"
   ]
  },
  {
   "cell_type": "code",
   "execution_count": 4,
   "metadata": {},
   "outputs": [
    {
     "name": "stdout",
     "output_type": "stream",
     "text": [
      "you got these number of variants per gene :  4\n"
     ]
    }
   ],
   "source": [
    "#Now let's build the genes and their variants.\n",
    "\n",
    "var=variants-1 # ;) read the code and you'll know why\n",
    "genes=[]\n",
    "\n",
    "#Here we build the single gene\n",
    "\n",
    "for i in range(N_genes):    \n",
    "    tmp_var=np.random.random(4)*2*b +(0.5-b)\n",
    "    distr_f_a_gene=tmp_var/sum(tmp_var)\n",
    "    #print(np.cumsum(distr_f_a_gene))\n",
    "    genes_tmp=[]\n",
    "    for j in range(int(genes_char[i])): \n",
    "        MC_1=np.random.random(1)\n",
    "        which_nucleotide=0\n",
    "        for lim in np.cumsum(distr_f_a_gene):\n",
    "            if(MC_1<=lim): \n",
    "                genes_tmp.append(which_nucleotide)\n",
    "                MC_1= 0\n",
    "                break\n",
    "            else:   which_nucleotide+=1 \n",
    "    genes.append(genes_tmp)\n",
    "#now add random mutations to characterize each variant.\n",
    "#we'll have genes->n variants\n",
    "genes_nv=genes\n",
    "genes=[]\n",
    "#print(genes[0][0])\n",
    "\n",
    "i=0\n",
    "for gene in genes_nv:\n",
    "    tmp_var=[]\n",
    "    tmp_var.append(gene)\n",
    "    for j in range(var) :\n",
    "        mutations_where=[]\n",
    "        mutations_where=np.random.choice(range(len(gene)), \n",
    "                                    (int(fraction_of_mutations_per_gene*len(gene))) , False)\n",
    "        #print(range(len(gene)))\n",
    "        \n",
    "        tmp_a=list(gene)\n",
    "        for m_w in mutations_where:\n",
    "            tmp_a[m_w]=np.random.randint(4)\n",
    "            \n",
    "        tmp_var.append(tmp_a)\n",
    "    genes.append(tmp_var)\n",
    "        \n",
    "print(\"you got these number of variants per gene : \",len(genes[0]))\n"
   ]
  },
  {
   "cell_type": "code",
   "execution_count": 5,
   "metadata": {},
   "outputs": [
    {
     "data": {
      "text/plain": [
       "'\\n\\n#Make a prob_distr for each correlation cluster, to choose the variants\\ncorr_distr_human=[]\\ncorr_distr_nean=[]\\nfor i in range(len(corrs_human)):\\n    #print(np.random.rand(prob_xcorr.shape[0]).argsort())\\n    prob_xcorr= np.random.random((variants,variants))*0.5\\n    prob_xcorr[1:,1]=np.ones(3)*2\\n    np.random.shuffle(prob_xcorr)\\n    prob_xcorr=prob_xcorr.T\\n    np.random.shuffle(prob_xcorr)\\n    #np.random.shuffle(prob_xcorr, axis=1) #np.random.random(var+1)\\n    prob_xcorr=np.cumsum(prob_xcorr, axis=0)/np.sum(prob_xcorr,axis=0)\\n    corr_distr_human.append(prob_xcorr)\\nfor i in range(len(corrs_neanderthal)):\\n    prob_xcorr= np.random.random((variants,variants))*0.5\\n    prob_xcorr[1:,1]=np.ones(3)*2\\n    np.random.shuffle(prob_xcorr)\\n    prob_xcorr=prob_xcorr.T\\n    np.random.shuffle(prob_xcorr)\\n    #print(prob_xcorr)\\n    prob_xcorr=np.cumsum(prob_xcorr, axis=0)/np.sum(prob_xcorr, axis=0)\\n    print(prob_xcorr)\\n    corr_distr_nean.append(prob_xcorr)\\n\\nprint(\"Limits for the Monte Carlo,matrices as many as the clusters, columns as many as the variants, rows as many as the variants\")    \\nprint(\"human\")\\ndisplay(corr_distr_human)\\nprint(\"nean\")\\ndisplay(corr_distr_nean) '"
      ]
     },
     "execution_count": 5,
     "metadata": {},
     "output_type": "execute_result"
    }
   ],
   "source": [
    "#old version\n",
    "\n",
    "\"\"\"\n",
    "\n",
    "#Make a prob_distr for each correlation cluster, to choose the variants\n",
    "corr_distr_human=[]\n",
    "corr_distr_nean=[]\n",
    "for i in range(len(corrs_human)):\n",
    "    #print(np.random.rand(prob_xcorr.shape[0]).argsort())\n",
    "    prob_xcorr= np.random.random((variants,variants))*0.5\n",
    "    prob_xcorr[1:,1]=np.ones(3)*2\n",
    "    np.random.shuffle(prob_xcorr)\n",
    "    prob_xcorr=prob_xcorr.T\n",
    "    np.random.shuffle(prob_xcorr)\n",
    "    #np.random.shuffle(prob_xcorr, axis=1) #np.random.random(var+1)\n",
    "    prob_xcorr=np.cumsum(prob_xcorr, axis=0)/np.sum(prob_xcorr,axis=0)\n",
    "    corr_distr_human.append(prob_xcorr)\n",
    "for i in range(len(corrs_neanderthal)):\n",
    "    prob_xcorr= np.random.random((variants,variants))*0.5\n",
    "    prob_xcorr[1:,1]=np.ones(3)*2\n",
    "    np.random.shuffle(prob_xcorr)\n",
    "    prob_xcorr=prob_xcorr.T\n",
    "    np.random.shuffle(prob_xcorr)\n",
    "    #print(prob_xcorr)\n",
    "    prob_xcorr=np.cumsum(prob_xcorr, axis=0)/np.sum(prob_xcorr, axis=0)\n",
    "    print(prob_xcorr)\n",
    "    corr_distr_nean.append(prob_xcorr)\n",
    "\n",
    "print(\"Limits for the Monte Carlo,matrices as many as the clusters, columns as many as the variants, rows as many as the variants\")    \n",
    "print(\"human\")\n",
    "display(corr_distr_human)\n",
    "print(\"nean\")\n",
    "display(corr_distr_nean) \"\"\""
   ]
  },
  {
   "cell_type": "code",
   "execution_count": 6,
   "metadata": {},
   "outputs": [
    {
     "name": "stdout",
     "output_type": "stream",
     "text": [
      "Limits for the Monte Carlo,matrices as many as the clusters, columns as many as the variants, rows as many as the variants\n",
      "human\n"
     ]
    },
    {
     "data": {
      "text/plain": [
       "[array([[0.1, 0.1, 0.1, 0.7],\n",
       "        [0.8, 0.2, 0.2, 0.8],\n",
       "        [0.9, 0.9, 0.3, 0.9],\n",
       "        [1. , 1. , 1. , 1. ]]),\n",
       " array([[0.1, 0.1, 0.1, 0.7],\n",
       "        [0.8, 0.2, 0.2, 0.8],\n",
       "        [0.9, 0.9, 0.3, 0.9],\n",
       "        [1. , 1. , 1. , 1. ]]),\n",
       " array([[0.1, 0.1, 0.1, 0.7],\n",
       "        [0.8, 0.2, 0.2, 0.8],\n",
       "        [0.9, 0.9, 0.3, 0.9],\n",
       "        [1. , 1. , 1. , 1. ]]),\n",
       " array([[0.1, 0.1, 0.1, 0.7],\n",
       "        [0.8, 0.2, 0.2, 0.8],\n",
       "        [0.9, 0.9, 0.3, 0.9],\n",
       "        [1. , 1. , 1. , 1. ]])]"
      ]
     },
     "metadata": {},
     "output_type": "display_data"
    },
    {
     "name": "stdout",
     "output_type": "stream",
     "text": [
      "nean\n"
     ]
    },
    {
     "data": {
      "text/plain": [
       "[array([[0.1, 0.1, 0.1, 0.7],\n",
       "        [0.8, 0.2, 0.2, 0.8],\n",
       "        [0.9, 0.9, 0.3, 0.9],\n",
       "        [1. , 1. , 1. , 1. ]]),\n",
       " array([[0.1, 0.1, 0.1, 0.7],\n",
       "        [0.8, 0.2, 0.2, 0.8],\n",
       "        [0.9, 0.9, 0.3, 0.9],\n",
       "        [1. , 1. , 1. , 1. ]]),\n",
       " array([[0.1, 0.1, 0.1, 0.7],\n",
       "        [0.8, 0.2, 0.2, 0.8],\n",
       "        [0.9, 0.9, 0.3, 0.9],\n",
       "        [1. , 1. , 1. , 1. ]]),\n",
       " array([[0.1, 0.1, 0.1, 0.7],\n",
       "        [0.8, 0.2, 0.2, 0.8],\n",
       "        [0.9, 0.9, 0.3, 0.9],\n",
       "        [1. , 1. , 1. , 1. ]])]"
      ]
     },
     "metadata": {},
     "output_type": "display_data"
    }
   ],
   "source": [
    "#yo use this to build markov chainz\n",
    "chain=np.array([i for i in range(variants)])\n",
    "corr_distr_human=[]\n",
    "corr_distr_nean=[]\n",
    "\n",
    "for i in range(len(corrs_human)):\n",
    "    np.random.shuffle(chain)\n",
    "    prob_xcorr= np.ones((variants,variants))*det\n",
    "    for j in range(-1,variants-1):\n",
    "        prob_xcorr[j+1,j]=1-(3*det)\n",
    "    prob_xcorr=np.cumsum(prob_xcorr, axis=0)/np.sum(prob_xcorr,axis=0)\n",
    "    corr_distr_human.append(prob_xcorr)\n",
    "\n",
    "for i in range(len(corrs_neanderthal)):\n",
    "    np.random.shuffle(chain)\n",
    "    prob_xcorr= np.ones((variants,variants))*det\n",
    "    for j in range(-1,variants-1):\n",
    "        prob_xcorr[j+1,j]=1-(3*det)\n",
    "    prob_xcorr=np.cumsum(prob_xcorr, axis=0)/np.sum(prob_xcorr,axis=0)\n",
    "    corr_distr_nean.append(prob_xcorr)\n",
    "\n",
    "\n",
    "\n",
    "print(\"Limits for the Monte Carlo,matrices as many as the clusters, columns as many as the variants, rows as many as the variants\")    \n",
    "print(\"human\")\n",
    "display(corr_distr_human)\n",
    "print(\"nean\")\n",
    "display(corr_distr_nean)"
   ]
  },
  {
   "cell_type": "code",
   "execution_count": 7,
   "metadata": {},
   "outputs": [
    {
     "data": {
      "text/plain": [
       "'import math as m\\nnp.random.shuffle(chain)\\nhg_0=(list(chain)*m.ceil(N_genes/len(chain)))[:N_genes]\\nnp.random.shuffle(chain)\\nng_0=(list(chain)*m.ceil(N_genes/len(chain)))[:N_genes]\\n\\nhg_ic = np.ones((N_people,N_genes))\\nng_ic = np.ones((N_people,N_genes))\\n\\nfor i in range(hg_ic.shape[0]):\\n    hg_ic[i,:]=hg_0\\n    ng_ic[i,:]=ng_0\\nprint(hg_ic[0])\\nprint(ng_ic[0])'"
      ]
     },
     "execution_count": 7,
     "metadata": {},
     "output_type": "execute_result"
    }
   ],
   "source": [
    "\"\"\"import math as m\n",
    "np.random.shuffle(chain)\n",
    "hg_0=(list(chain)*m.ceil(N_genes/len(chain)))[:N_genes]\n",
    "np.random.shuffle(chain)\n",
    "ng_0=(list(chain)*m.ceil(N_genes/len(chain)))[:N_genes]\n",
    "\n",
    "hg_ic = np.ones((N_people,N_genes))\n",
    "ng_ic = np.ones((N_people,N_genes))\n",
    "\n",
    "for i in range(hg_ic.shape[0]):\n",
    "    hg_ic[i,:]=hg_0\n",
    "    ng_ic[i,:]=ng_0\n",
    "print(hg_ic[0])\n",
    "print(ng_ic[0])\"\"\""
   ]
  },
  {
   "cell_type": "code",
   "execution_count": 8,
   "metadata": {},
   "outputs": [
    {
     "name": "stdout",
     "output_type": "stream",
     "text": [
      "Loading :  2999 / 3000\n",
      "(3000, 1000)\n",
      "(3000, 1000)\n",
      "sentences, words, letter*words\n",
      "3000 1000 5\n",
      "(200, 3000, 5)\n",
      "(200, 3000, 5)\n"
     ]
    }
   ],
   "source": [
    "\n",
    "\n",
    "from IPython.display import clear_output\n",
    "import copy\n",
    "neanderthals=[]\n",
    "humans=[]\n",
    "\n",
    "hg_ic=[]\n",
    "ng_ic=[]\n",
    "\n",
    "genome_corr_h=[]\n",
    "genome_corr_n=[]\n",
    "\n",
    "\n",
    "for person in range(N_people):\n",
    "    _tmg=np.random.randint(variants)     #a variant random                  \n",
    "    clear_output(wait=\"True\")\n",
    "    print(\"Loading : \",person, \"/\", N_people )\n",
    "    \n",
    "    #Build genome info\n",
    "    \n",
    "    #HUMANS\n",
    "    \n",
    "    human_genome_info=np.zeros(N_genes)       \n",
    "    for i in range(len(corr_distr_human)):    #which cluster\n",
    "        for gene in corrs_human[i]:               #for every gene in the cluster\n",
    "            which_variants=0           \n",
    "            MC_2=np.random.random()\n",
    "            for lim in corr_distr_human[i][:,_tmg]:\n",
    "                if(MC_2<=lim):                          #use a monte carlo on markov to choose the variant\n",
    "                    human_genome_info[gene]=which_variants\n",
    "                    MC_2= 0\n",
    "                    _tmg=which_variants                 #jump to the other variant distr for the next it.\n",
    "                    break\n",
    "                else: which_variants+=1\n",
    "    _tmg=np.random.randint(variants)\n",
    "    genome_corr_h.append(copy.deepcopy(human_genome_info))  #now i have the genome, i copy that.\n",
    "    \n",
    "    #NEAND\n",
    "    \n",
    "    nean_genome_info=np.zeros(N_genes)\n",
    "    for i in range(len(corr_distr_nean)):                   #same for neanderthal\n",
    "        for gene in corrs_neanderthal[i]:\n",
    "            which_variants=0           \n",
    "            MC_2=np.random.random()\n",
    "            for lim in corr_distr_nean[i][:,_tmg]:\n",
    "                if(MC_2<=lim): \n",
    "                    nean_genome_info[gene]=which_variants\n",
    "                    MC_2= 0\n",
    "                    _tmg=which_variants\n",
    "                    break\n",
    "                else: which_variants+=1\n",
    "    \n",
    "    \n",
    "    genome_corr_n.append(copy.deepcopy(nean_genome_info))\n",
    "   \n",
    "    #From the info insert the variant.\n",
    "\n",
    "    human_genome=[]\n",
    "    nean_genome=[]\n",
    "\n",
    "    for i in range(len(human_genome_info)):\n",
    "    \n",
    "        human_genome.append(genes[i][int(human_genome_info[i])]) #put the complete gene in an array .\n",
    "    for i in range(len(nean_genome_info)):                       #as decided with the monte carlo.\n",
    "        nean_genome.append(genes[i][int(nean_genome_info[i])])\n",
    "   \n",
    "\n",
    "    hg_ic.append(human_genome_info)\n",
    "    ng_ic.append(nean_genome_info)\n",
    "    \n",
    "    human_genome_info=[]\n",
    "    nean_genome_info=[]\n",
    "    \n",
    "    \n",
    "    \n",
    "\n",
    "    #build intragenic\n",
    "    \n",
    "    human_intra=[]                                                #build intragenic\n",
    "    nean_intra=[]\n",
    "    for i in range(len(intragenic_char_humans)):                  \n",
    "        human_intra.append(np.random.randint(4,size=int(intragenic_char_humans[i])))\n",
    "\n",
    "    for i in range(len(intragenic_char_neanderthal)):\n",
    "        nean_intra.append(np.random.randint(4,size=int(intragenic_char_neanderthal[i])))\n",
    "\n",
    "    #build the complete DNA\n",
    "\n",
    "    human_DNA= list(human_intra[0])\n",
    "    nean_DNA= list(nean_intra[0])\n",
    "    \n",
    "\n",
    "    for i in range(0,N_genes):\n",
    "        for nuc in human_genome[i]:\n",
    "            human_DNA.append(nuc)\n",
    "        for nuc in human_intra[i+1]:\n",
    "            human_DNA.append(nuc)\n",
    "        for nuc in nean_genome[i]:\n",
    "            nean_DNA.append(nuc)\n",
    "        for nuc in nean_intra[i+1]:\n",
    "            nean_DNA.append(nuc)\n",
    "            \n",
    "    #from numbers to letters acgt\n",
    "\n",
    "    human_genome=[]\n",
    "    nean_genome=[]\n",
    "    nean_intra=[]\n",
    "    human_intra=[]\n",
    "\n",
    "    my_d={0:'A',1:'C',2:'G',3:'T'}\n",
    "    for i in range(len(human_DNA)):\n",
    "        human_DNA[i]=my_d[human_DNA[i]]\n",
    "    for i in range(len(nean_DNA)):\n",
    "        nean_DNA[i]=my_d[nean_DNA[i]]\n",
    "    \n",
    "    humans.append(human_DNA)\n",
    "    neanderthals.append(nean_DNA)\n",
    "    human_DNA =[]\n",
    "    nean_DNA=[]\n",
    "    \n",
    "humans=np.array(humans)\n",
    "neanderthals=np.array(neanderthals)\n",
    "\n",
    "print(humans.shape)\n",
    "print(neanderthals.shape)\n",
    "\n",
    "#divide in words\n",
    "\n",
    "\n",
    "\n",
    "\n",
    "h_DNA= np.array(np.split(humans, sentence_length//word_length, axis=1  ))\n",
    "n_DNA= np.array(np.split(neanderthals, sentence_length//word_length , axis=1 ))\n",
    "print(\"sentences, words, letter*words\")\n",
    "print(N_people, sentence_length, word_length)\n",
    "\n",
    "      \n",
    "print(h_DNA.shape)\n",
    "print(n_DNA.shape)"
   ]
  },
  {
   "cell_type": "code",
   "execution_count": null,
   "metadata": {},
   "outputs": [],
   "source": []
  },
  {
   "cell_type": "markdown",
   "metadata": {},
   "source": [
    "# TEST YOUR DATA BEFORE TRAINING the NN\n",
    "\n",
    "see if its all as you wanted\n",
    "see if a nn feeded with just the info (no noise) work, if not you have to change params"
   ]
  },
  {
   "cell_type": "markdown",
   "metadata": {},
   "source": [
    "## check if the genome is correct:\n",
    "\n",
    "if you used det = 0 the sequence in the markov chain is deterministic in a given cluster. -> first print you see for cluster 1 ( corrs_human[1]) \n",
    "\n",
    "if yoy used forward MC True, the second print is equal to the first (if det = 0 ) because the chain is only moving forward.\n"
   ]
  },
  {
   "cell_type": "code",
   "execution_count": 9,
   "metadata": {},
   "outputs": [
    {
     "name": "stdout",
     "output_type": "stream",
     "text": [
      "\n",
      "\n",
      "[8]\n"
     ]
    },
    {
     "data": {
      "text/plain": [
       "array([[3.],\n",
       "       [0.],\n",
       "       [2.],\n",
       "       [3.],\n",
       "       [0.],\n",
       "       [2.],\n",
       "       [0.],\n",
       "       [1.],\n",
       "       [1.],\n",
       "       [0.]])"
      ]
     },
     "metadata": {},
     "output_type": "display_data"
    }
   ],
   "source": [
    "#check if the genome is correct:\n",
    "hg_ic=np.array(hg_ic)\n",
    "ng_ic=np.array(ng_ic)\n",
    "print()\n",
    "#is the chain going forward and backwards?  depends on id forward_mc true or false\n",
    "\n",
    "print()\n",
    "print(corrs_human[3])\n",
    "display(hg_ic[:10, np.sort(corrs_human[3])])\n"
   ]
  },
  {
   "cell_type": "markdown",
   "metadata": {},
   "source": [
    "## TEST\n",
    "\n",
    "We can train the net on pure information (no noise, genese condensed in their variant, so on just genome infos)\n",
    "If it does not work here it cannot work on the informatio+noise dataset"
   ]
  },
  {
   "cell_type": "code",
   "execution_count": 10,
   "metadata": {},
   "outputs": [
    {
     "name": "stderr",
     "output_type": "stream",
     "text": [
      "Using TensorFlow backend.\n"
     ]
    },
    {
     "name": "stdout",
     "output_type": "stream",
     "text": [
      "(6000, 1, 30)\n",
      "(4800, 1, 30)\n"
     ]
    },
    {
     "data": {
      "image/png": "[encoded data removed]",
      "text/plain": [
       "<IPython.core.display.Image object>"
      ]
     },
     "execution_count": 10,
     "metadata": {},
     "output_type": "execute_result"
    }
   ],
   "source": [
    "#reshape data to feed the net.\n",
    "hg_ic=list(hg_ic)\n",
    "ng_ic=list(ng_ic)\n",
    "xt=np.array(hg_ic+ng_ic)\n",
    "perm=[i for i in range(xt.shape[0])]\n",
    "np.random.shuffle(perm)\n",
    "xt=xt.reshape(xt.shape[0],xt.shape[1],1)\n",
    "yt = [1]*len(hg_ic)+[0]*len(ng_ic)\n",
    "\n",
    "\n",
    "xt=np.array(xt)[perm]\n",
    "xt=xt.reshape(xt.shape[0],xt.shape[2],xt.shape[1])\n",
    "yt=np.array(yt)[perm]\n",
    "#yt=yt.reshape(yt.shape[0], 1,1)\n",
    "\n",
    "\n",
    "from sklearn.model_selection import train_test_split\n",
    "Xt_train, Xt_test, Yt_train, Yt_test = train_test_split(xt, yt, test_size = 0.20, random_state = 42, shuffle = True)\n",
    "\n",
    "#print(np.array(Xt_train)[:10,:3], np.array(Yt_train)[:10])\n",
    "\n",
    "import keras\n",
    "from keras.models import Sequential\n",
    "from keras.callbacks import ModelCheckpoint\n",
    "from keras.optimizers import SGD, Adam, Adadelta, RMSprop\n",
    "from keras.layers import Conv1D, Dense, MaxPooling1D, Flatten, Dropout, concatenate\n",
    "from keras.layers import Embedding, GlobalAveragePooling1D, LSTM, SimpleRNN, GRU, Bidirectional\n",
    "from keras.layers.convolutional_recurrent import ConvLSTM2D\n",
    "from keras import regularizers\n",
    "n_clusters=1\n",
    "print(xt.shape)\n",
    "print(Xt_train.shape)\n",
    "inputs= keras.Input(shape=(1,xt.shape[2]))\n",
    "lstm=[]\n",
    "for i in range(n_clusters):\n",
    "    #lstm.append(LSTM(xt.shape[1], dropout = 0.0,input_shape=(xt.shape[1],1), recurrent_dropout = 0.0)(inputs))\n",
    "#kernel_regularizer=regularizers.l2(0.01),activity_regularizer=regularizers.l1(0.01)   \n",
    "    lstm.append(Bidirectional(LSTM(N_genes//n_clusters, dropout = 0.0,input_shape=(xt.shape[1],1), recurrent_dropout = 0.0))(inputs))\n",
    "#kernel_regularizer=regularizers.l2(0.01),activity_regularizer=regularizers.l1(0.01)   \n",
    "#merge=concatenate([l for l in lstm])\n",
    "#d=Dense(5,kernel_regularizer=regularizers.l2(0.01),activity_regularizer=regularizers.l1(0.01))(inputs)\n",
    "d1=Dense(20)(lstm[0])\n",
    "d2=Dense(10)(d1)\n",
    "d3=Dense(5)(d2)\n",
    "f1=Dense(1, activation = 'sigmoid')(d3)\n",
    "\n",
    "model = keras.Model(inputs = inputs , outputs = f1, name = \"test\")\n",
    "model.compile(loss = 'binary_crossentropy', optimizer = 'rmsprop', metrics = ['accuracy'])\n",
    "keras.utils.plot_model(model, show_shapes = True)\n"
   ]
  },
  {
   "cell_type": "markdown",
   "metadata": {},
   "source": [
    "40 genes avg dim cluster 10 (det = 0.1), not forward->\n",
    "    Bidirectional see back and forward markov chain 76 % acc \n",
    "    also the non bidirectional..70%\n",
    "\n",
    "\n",
    "avg dim cluster ->3 ops wrong\n",
    "    \n",
    "    10bdlstm = 83% take some time..\n",
    "    5bd = 85% \n",
    "    2bdlstm = 84 %\n",
    "    1bdlstm = 86\n",
    "     \n",
    "\n",
    "avg dim cluster ->20 \n",
    "\n",
    "     5bd = 84% less (epochs)\n",
    "     2bd = 85%\n",
    "     10  = 83%\n",
    "\n",
    "\n",
    "try with 100 genes\n",
    "\n",
    "avg dim cluster ->3 \n",
    "    \n",
    "     1bdlstm = 91%\n",
    "     5bdlstm = 90%\n",
    "    \n",
    "    \n",
    "\n"
   ]
  },
  {
   "cell_type": "code",
   "execution_count": 11,
   "metadata": {},
   "outputs": [
    {
     "name": "stdout",
     "output_type": "stream",
     "text": [
      "Train on 3840 samples, validate on 960 samples\n",
      "Epoch 1/20\n",
      "3840/3840 [==============================] - 3s 653us/step - loss: 0.6896 - accuracy: 0.5393 - val_loss: 0.6661 - val_accuracy: 0.6260\n",
      "Epoch 2/20\n",
      "3840/3840 [==============================] - 1s 200us/step - loss: 0.6348 - accuracy: 0.6615 - val_loss: 0.6057 - val_accuracy: 0.7000\n",
      "Epoch 3/20\n",
      "3840/3840 [==============================] - 1s 200us/step - loss: 0.5432 - accuracy: 0.7424 - val_loss: 0.5194 - val_accuracy: 0.7521\n",
      "Epoch 4/20\n",
      "3840/3840 [==============================] - 1s 239us/step - loss: 0.4616 - accuracy: 0.7786 - val_loss: 0.5065 - val_accuracy: 0.7437\n",
      "Epoch 5/20\n",
      "3840/3840 [==============================] - 1s 233us/step - loss: 0.4227 - accuracy: 0.8042 - val_loss: 0.4452 - val_accuracy: 0.7833\n",
      "Epoch 6/20\n",
      "3840/3840 [==============================] - 1s 200us/step - loss: 0.3886 - accuracy: 0.8229 - val_loss: 0.4271 - val_accuracy: 0.7990\n",
      "Epoch 7/20\n",
      "3840/3840 [==============================] - 1s 224us/step - loss: 0.3669 - accuracy: 0.8313 - val_loss: 0.4590 - val_accuracy: 0.7823\n",
      "Epoch 8/20\n",
      "3840/3840 [==============================] - 1s 188us/step - loss: 0.3554 - accuracy: 0.8453 - val_loss: 0.3951 - val_accuracy: 0.8271\n",
      "Epoch 9/20\n",
      "3840/3840 [==============================] - 1s 162us/step - loss: 0.3417 - accuracy: 0.8466 - val_loss: 0.3964 - val_accuracy: 0.8271\n",
      "Epoch 10/20\n",
      "3840/3840 [==============================] - 1s 139us/step - loss: 0.3242 - accuracy: 0.8620 - val_loss: 0.4075 - val_accuracy: 0.8146\n",
      "Epoch 11/20\n",
      "3840/3840 [==============================] - 1s 143us/step - loss: 0.3178 - accuracy: 0.8586 - val_loss: 0.4907 - val_accuracy: 0.7885\n",
      "Epoch 12/20\n",
      "3840/3840 [==============================] - 1s 150us/step - loss: 0.3076 - accuracy: 0.8646 - val_loss: 0.4216 - val_accuracy: 0.8094\n",
      "Epoch 13/20\n",
      "3840/3840 [==============================] - 1s 199us/step - loss: 0.3018 - accuracy: 0.8724 - val_loss: 0.4347 - val_accuracy: 0.8115\n",
      "Epoch 14/20\n",
      "3840/3840 [==============================] - 1s 184us/step - loss: 0.2839 - accuracy: 0.8799 - val_loss: 0.3962 - val_accuracy: 0.8333\n",
      "Epoch 15/20\n",
      "3840/3840 [==============================] - 1s 167us/step - loss: 0.2681 - accuracy: 0.8836 - val_loss: 0.6056 - val_accuracy: 0.7583\n",
      "Epoch 16/20\n",
      "3840/3840 [==============================] - 1s 176us/step - loss: 0.2650 - accuracy: 0.8826 - val_loss: 0.4663 - val_accuracy: 0.8052\n",
      "Epoch 17/20\n",
      "3840/3840 [==============================] - 1s 197us/step - loss: 0.2624 - accuracy: 0.8872 - val_loss: 0.3998 - val_accuracy: 0.8219\n",
      "Epoch 18/20\n",
      "3840/3840 [==============================] - 1s 204us/step - loss: 0.2500 - accuracy: 0.8883 - val_loss: 0.4096 - val_accuracy: 0.8302\n",
      "Epoch 19/20\n",
      "3840/3840 [==============================] - 1s 249us/step - loss: 0.2409 - accuracy: 0.9000 - val_loss: 0.4152 - val_accuracy: 0.8438\n",
      "Epoch 20/20\n",
      "3840/3840 [==============================] - 1s 239us/step - loss: 0.2276 - accuracy: 0.9047 - val_loss: 0.4108 - val_accuracy: 0.8406\n"
     ]
    }
   ],
   "source": [
    "epochs = 20\n",
    "\n",
    "history = model.fit(Xt_train, Yt_train, epochs = epochs, verbose = 1, validation_split = 0.2, batch_size = 50, shuffle = True)"
   ]
  },
  {
   "cell_type": "code",
   "execution_count": 12,
   "metadata": {},
   "outputs": [
    {
     "data": {
      "image/png": "[encoded data removed]",
      "text/plain": [
       "<Figure size 432x288 with 2 Axes>"
      ]
     },
     "metadata": {
      "needs_background": "light"
     },
     "output_type": "display_data"
    }
   ],
   "source": [
    "from sklearn.metrics import confusion_matrix\n",
    "import matplotlib.pyplot as plt\n",
    "import itertools\n",
    "\n",
    "predicted_labels = model.predict(Xt_test)\n",
    "cm = confusion_matrix(Yt_test, [np.round(i[0]) for i in predicted_labels])\n",
    "cm = cm.astype('float') / cm.sum(axis = 1)[:, np.newaxis]\n",
    "\n",
    "\n",
    "\n",
    "plt.imshow(cm, cmap = plt.cm.Blues)\n",
    "plt.title('Normalized confusion matrix', fontsize = 15)\n",
    "plt.colorbar()\n",
    "plt.xlabel('True label', fontsize = 15)\n",
    "plt.ylabel('Predicted label', fontsize = 15)\n",
    "for i, j in itertools.product(range(cm.shape[0]), range(cm.shape[1])):\n",
    "    plt.text(j, i, format(cm[i, j], '.2f'),\n",
    "             horizontalalignment = 'center', verticalalignment = 'center', fontsize = 20,\n",
    "             color='white' if cm[i, j] > 0.5 else 'black')\n",
    "plt.show()\n",
    "\n",
    "\n",
    "yt=[]\n",
    "xt=[]\n",
    "hg_ic=[]\n",
    "ng_ic=[]"
   ]
  },
  {
   "cell_type": "markdown",
   "metadata": {},
   "source": []
  },
  {
   "cell_type": "markdown",
   "metadata": {},
   "source": [
    "## Long Range Correlations"
   ]
  },
  {
   "cell_type": "code",
   "execution_count": 66,
   "metadata": {},
   "outputs": [
    {
     "name": "stdout",
     "output_type": "stream",
     "text": [
      "Freqs H\n",
      "[0.27941167 0.23916333 0.236472   0.244953  ]\n",
      "\n",
      "Freqs_ N \n",
      "[0.279373   0.23904633 0.23697133 0.24460933]\n",
      "Done P(x_i)\n",
      "Done P(x_i|x_j)\n",
      "Check\n",
      "[[0.09043454 0.05907348 0.06492719 0.06372979]\n",
      " [0.06552037 0.06526653 0.05188577 0.05685271]\n",
      " [0.05888778 0.05650367 0.0622682  0.05978657]\n",
      " [0.06457214 0.05817702 0.05789212 0.06422211]]\n",
      "Check\n",
      "[[0.08991558 0.06177889 0.06063585 0.06590519]\n",
      " [0.06499765 0.06313132 0.0544258  0.05668777]\n",
      " [0.06320804 0.05296985 0.06128744 0.05945494]\n",
      " [0.06136616 0.06110854 0.06057286 0.0625541 ]]\n",
      "Check\n",
      "[[0.08558956 0.05702189 0.06676027 0.06672795]\n",
      " [0.06932088 0.05675522 0.06274714 0.05162761]\n",
      " [0.05727811 0.06165791 0.05444478 0.06420976]\n",
      " [0.06795253 0.0627404  0.05239832 0.06276768]]\n",
      "Check\n",
      "[[0.07526361 0.0633051  0.06572687 0.0685068 ]\n",
      " [0.06684592 0.05681735 0.05904286 0.05839796]\n",
      " [0.06275034 0.05915102 0.05227483 0.06432959]\n",
      " [0.07276939 0.05980238 0.05942755 0.05558844]]\n",
      "Check\n",
      "[[0.07478969 0.06747698 0.0640055  0.06547663]\n",
      " [0.06927595 0.05204983 0.05808247 0.06106048]\n",
      " [0.06656426 0.05458729 0.05571718 0.06230344]\n",
      " [0.06571649 0.06563471 0.05853024 0.05872887]]\n",
      "Check\n",
      "[[0.07244175 0.06981825 0.06207649 0.07052667]\n",
      " [0.06434421 0.05937649 0.05640667 0.05833298]\n",
      " [0.07048912 0.05137614 0.05540526 0.05929544]\n",
      " [0.06414    0.06130456 0.06662351 0.05804246]]\n",
      "Check\n",
      "[[0.08135181 0.05969493 0.06556413 0.06580942]\n",
      " [0.06536594 0.0627779  0.0587058  0.05525217]\n",
      " [0.05578297 0.05459167 0.06150471 0.06725978]\n",
      " [0.06148225 0.06833406 0.05658007 0.05994239]]\n",
      "Check\n",
      "[[0.07332857 0.06328022 0.0679033  0.06762418]\n",
      " [0.0623304  0.06396447 0.05511465 0.06142857]\n",
      " [0.06220623 0.06304689 0.05711355 0.05663626]\n",
      " [0.06709451 0.0564348  0.06050256 0.06199084]]\n",
      "Check\n",
      "[[0.07077037 0.0610237  0.0670037  0.07414778]\n",
      " [0.06328778 0.0631337  0.05462222 0.06082963]\n",
      " [0.06560333 0.06275815 0.05693889 0.05498778]\n",
      " [0.06518185 0.06005704 0.06140963 0.05824444]]\n",
      "-4.85722573273506e-17\n",
      "-3.469446951953614e-17\n",
      "-4.163336342344337e-17\n",
      "-2.7755575615628914e-17\n",
      "-1.3877787807814457e-17\n",
      "-3.469446951953614e-17\n",
      "-4.85722573273506e-17\n",
      "-4.163336342344337e-17\n",
      "-1.3877787807814457e-17\n",
      "(4, 4)\n"
     ]
    }
   ],
   "source": [
    "#order ACGT\n",
    "new_dict={'A':0, \"C\":1 , \"G\":2, \"T\":3}\n",
    "\n",
    "r=[2,5,10,20,30,50,80,90,100]\n",
    "\n",
    "couples_h=np.zeros((4,4,len(r)))\n",
    "freqs_h=np.zeros(4)\n",
    "couples_n=np.zeros((4,4, len(r)))\n",
    "freqs_n=np.zeros(4)\n",
    "\n",
    "for sentence in humans:\n",
    "    for nuc in sentence:\n",
    "        freqs_h[new_dict[nuc]]+=1\n",
    "freqs_h=freqs_h/(humans.shape[0]*humans.shape[1])\n",
    "print(\"Freqs H\")\n",
    "print(freqs_h)\n",
    "fh_h=list(freqs_h)\n",
    "\n",
    "print()\n",
    "freqs_h=[[a*b for b in freqs_h]for a in freqs_h]\n",
    "freqs_h=np.array(freqs_h)\n",
    "\n",
    "\n",
    "for sentence in neanderthals:\n",
    "    for nuc in sentence:\n",
    "        freqs_n[new_dict[nuc]]+=1\n",
    "freqs_n=freqs_n/(neanderthals.shape[0]*neanderthals.shape[1])\n",
    "\n",
    "print(\"Freqs_ N \")\n",
    "print(freqs_n)\n",
    "fn_n=list(freqs_n)\n",
    "\n",
    "freqs_n=[[a*b for b in freqs_n]for a in freqs_n]\n",
    "freqs_n=np.array(freqs_n)\n",
    "\n",
    "print(\"Done P(x_i)\")\n",
    "\n",
    "for k in range(len(r)):\n",
    "    for sentence in humans:\n",
    "         for idx in range(len(sentence)-r[k]):\n",
    "                couples_h[new_dict[sentence[idx]],new_dict[sentence[idx+r[k]]], k ]+=1            \n",
    "    couples_h[:,:,k]=couples_h[:,:,k]/(humans.shape[0]*(humans.shape[1]-r[k]))\n",
    "\n",
    "                \n",
    "for k in range(len(r)):\n",
    "    for sentence in neanderthals:\n",
    "         for idx in range(len(sentence)-r[k]):\n",
    "                couples_n[new_dict[sentence[idx]],new_dict[sentence[idx+r[k]]], k ]+=1\n",
    "    couples_n[:,:,k]=couples_n[:,:,k]/(neanderthals.shape[0]*(neanderthals.shape[1]-r[k]))\n",
    "                          \n",
    "print(\"Done P(x_i|x_j)\")\n",
    "for i in range(len(r)):\n",
    "    print(\"Check\")\n",
    "    print(couples_n[:,:,i])\n",
    "\n",
    "#compute correlations\n",
    "    #sum i sum j couples[i,j]-\n",
    "\n",
    "Cr_h=np.zeros(len(r))\n",
    "Cr_n=np.zeros(len(r))\n",
    "for k in range(len(r)):\n",
    " \n",
    "    print(np.sum(couples_h[:,:,k]-freqs_h))\n",
    "    Cr_h[k]=np.sum(couples_h[:,:,k]-freqs_h)\n",
    "    Cr_n[k]=np.sum(couples_n[:,:,k]-freqs_n)\n",
    "\n",
    "print(freqs_h.shape) "
   ]
  },
  {
   "cell_type": "code",
   "execution_count": 82,
   "metadata": {},
   "outputs": [
    {
     "data": {
      "image/png": "[encoded data removed]",
      "text/plain": [
       "<Figure size 432x288 with 1 Axes>"
      ]
     },
     "metadata": {
      "needs_background": "light"
     },
     "output_type": "display_data"
    }
   ],
   "source": [
    "# Dont see any correlation..\n",
    "\n",
    "#plt.xscale=(\"log\")\n",
    "#plt.yscale=(\"log\")\n",
    "plt.plot(r, Cr_h)\n",
    "plt.plot(r,Cr_n)\n",
    "plt.show()"
   ]
  },
  {
   "cell_type": "markdown",
   "metadata": {},
   "source": [
    "## Frequency of nucleotides"
   ]
  },
  {
   "cell_type": "code",
   "execution_count": 79,
   "metadata": {},
   "outputs": [
    {
     "name": "stdout",
     "output_type": "stream",
     "text": [
      "[[0.07807088 0.06682503 0.06607304 0.06844273]\n",
      " [0.06682503 0.0571991  0.05655543 0.05858378]\n",
      " [0.06607304 0.05655543 0.05591901 0.05792453]\n",
      " [0.06844273 0.05858378 0.05792453 0.06000197]]\n"
     ]
    },
    {
     "data": {
      "image/png": "[encoded data removed]",
      "text/plain": [
       "<Figure size 432x288 with 1 Axes>"
      ]
     },
     "metadata": {
      "needs_background": "light"
     },
     "output_type": "display_data"
    },
    {
     "data": {
      "image/png": "[encoded data removed]",
      "text/plain": [
       "<Figure size 432x288 with 1 Axes>"
      ]
     },
     "metadata": {
      "needs_background": "light"
     },
     "output_type": "display_data"
    }
   ],
   "source": [
    "print(freqs_h)\n",
    "plt.scatter(range(4),fh_h, label = \"humans nucleotides freq.\")\n",
    "plt.scatter(range(4),fn_n, label= \"neanderthals nucleotides freq.\")\n",
    "plt.legend()\n",
    "plt.show()\n",
    "\n",
    "plt.scatter(range(4),abs(np.array(fn_n)-np.array(fh_h)), label= \"abs(freqh-freqn)\")\n",
    "plt.ylim(-0.0001,+0.0006)\n",
    "plt.legend()\n",
    "plt.show()"
   ]
  },
  {
   "cell_type": "markdown",
   "metadata": {},
   "source": [
    "## Check the words frequency for DNA"
   ]
  },
  {
   "cell_type": "code",
   "execution_count": 15,
   "metadata": {},
   "outputs": [
    {
     "name": "stdout",
     "output_type": "stream",
     "text": [
      "(3000, 200)\n"
     ]
    },
    {
     "data": {
      "text/plain": [
       "array(['TACCG', 'ACGGC', 'GACAA', ..., 'AAAAG', 'TTAAA', 'ACGAA'],\n",
       "      dtype='<U5')"
      ]
     },
     "metadata": {},
     "output_type": "display_data"
    },
    {
     "name": "stdout",
     "output_type": "stream",
     "text": [
      "here\n",
      "there\n",
      "20\n"
     ]
    },
    {
     "data": {
      "image/png": "[encoded data removed]",
      "text/plain": [
       "<Figure size 432x288 with 1 Axes>"
      ]
     },
     "metadata": {
      "needs_background": "light"
     },
     "output_type": "display_data"
    },
    {
     "name": "stdout",
     "output_type": "stream",
     "text": [
      "here\n",
      "there\n",
      "20\n"
     ]
    },
    {
     "data": {
      "image/png": "[encoded data removed]",
      "text/plain": [
       "<Figure size 432x288 with 1 Axes>"
      ]
     },
     "metadata": {
      "needs_background": "light"
     },
     "output_type": "display_data"
    }
   ],
   "source": [
    "DNA_length= sentence_length*N_people\n",
    "#make words strings.\n",
    "h_DNA = np.array([[''.join(h_DNA[i,j,:]) for i in range(h_DNA.shape[0]) ]for \n",
    "                  j in range(h_DNA.shape[1])])\n",
    "#make words strings.\n",
    "n_DNA = np.array([[''.join(n_DNA[i,j,:]) for i in range(n_DNA.shape[0]) ]for \n",
    "                  j in range(n_DNA.shape[1])])\n",
    "\n",
    "print(h_DNA.shape)\n",
    "\n",
    "h_DNA_check= h_DNA.reshape(DNA_length//word_length)\n",
    "n_DNA_check= n_DNA.reshape(DNA_length//word_length)\n",
    "display(h_DNA_check)\n",
    "h_DNA_check1=[]\n",
    "n_DNA_check1=[]\n",
    "\n",
    "\n",
    "\n",
    "from collections import Counter\n",
    "import matplotlib.pyplot as  plt\n",
    "\n",
    "\n",
    "##HUMAN\n",
    "print(\"here\")\n",
    "counts_h=dict(Counter(h_DNA_check).most_common(20))\n",
    "print(\"there\")\n",
    "labels_h, values_h = zip(*counts_h.items())\n",
    "\n",
    "#sort\n",
    "indsort_h = np.argsort(values_h)[::-1]\n",
    "\n",
    "#re_arrange\n",
    "labels_h= np.array(labels_h)[indsort_h]\n",
    "values_h= np.array(values_h)[indsort_h]\n",
    "indexes_h = np.arange(len(values_h))\n",
    "bar_width=0.2\n",
    "plt.bar(indexes_h, values_h)\n",
    "plt.xticks(indexes_h+bar_width,labels_h, rotation= 90)\n",
    "print(len(counts_h))\n",
    "\n",
    "plt.show()\n",
    "\n",
    "##NEANDERTHAL\n",
    "print(\"here\")\n",
    "counts_n=dict(Counter(n_DNA_check).most_common(20))\n",
    "print(\"there\")\n",
    "labels_n, values_n = zip(*counts_n.items())\n",
    "\n",
    "#sort\n",
    "indsort_n = np.argsort(values_n)[::-1]\n",
    "\n",
    "#re_arrange\n",
    "labels_n= np.array(labels_n)[indsort_n]\n",
    "values_n= np.array(values_n)[indsort_n]\n",
    "indexes_n = np.arange(len(values_n))\n",
    "bar_width=0.2\n",
    "plt.bar(indexes_n, values_n)\n",
    "plt.xticks(indexes_n+bar_width,labels_n, rotation= 90)\n",
    "print(len(counts_n))\n",
    "\n",
    "plt.show()\n",
    "\n"
   ]
  },
  {
   "cell_type": "code",
   "execution_count": null,
   "metadata": {},
   "outputs": [],
   "source": []
  },
  {
   "cell_type": "markdown",
   "metadata": {},
   "source": [
    "## Prepare Data for NN"
   ]
  },
  {
   "cell_type": "code",
   "execution_count": 16,
   "metadata": {},
   "outputs": [
    {
     "name": "stdout",
     "output_type": "stream",
     "text": [
      "(4800, 200)\n",
      "4800\n",
      "200\n"
     ]
    }
   ],
   "source": [
    "h_DNA_NN=[' '.join(h_DNA[i,:]) for i in range(h_DNA.shape[0])]\n",
    "n_DNA_NN=[' '.join(n_DNA[i,:]) for i in range(n_DNA.shape[0])]\n",
    "\n",
    "DNA_NN = h_DNA_NN+n_DNA_NN\n",
    "Y = [1]*len(h_DNA_NN)+[0]*len(n_DNA_NN)\n",
    "\n",
    "\n",
    "from keras.preprocessing.text import Tokenizer\n",
    "from keras.preprocessing.sequence import pad_sequences\n",
    "from sklearn.feature_extraction.text import CountVectorizer\n",
    "from sklearn.feature_extraction.text import TfidfTransformer\n",
    "\n",
    "tokenizer = Tokenizer()\n",
    "tokenizer.fit_on_texts(DNA_NN)\n",
    "\n",
    "encoded_docs = tokenizer.texts_to_sequences(DNA_NN)\n",
    "\n",
    "max_length = max([len(s.split()) for s in DNA_NN])\n",
    "X = pad_sequences(encoded_docs, maxlen = max_length, padding = 'post')\n",
    "\n",
    "\n",
    "from sklearn.model_selection import train_test_split\n",
    "#X=X.reshape(X.shape[0],X.shape[1],1)\n",
    "X_train, X_test, Y_train, Y_test = train_test_split(X, Y, test_size = 0.20, random_state = 42, shuffle = True)\n",
    "\n",
    "print(X_train.shape)\n",
    "print(len(Y_train))\n",
    "vocab_size = len(tokenizer.word_index) + 1\n",
    "print(max_length)"
   ]
  },
  {
   "cell_type": "code",
   "execution_count": 17,
   "metadata": {},
   "outputs": [
    {
     "data": {
      "text/plain": [
       "'from keras.preprocessing.text import Tokenizer\\nfrom keras.preprocessing.sequence import pad_sequences\\nfrom sklearn.feature_extraction.text import CountVectorizer\\nfrom sklearn.feature_extraction.text import TfidfTransformer\\nfrom sklearn.model_selection import train_test_split\\n#test 2\\nY = [1]*len(h_DNA)+[0]*len(n_DNA)\\nprint(len(h_DNA))\\nprint(len(Y))\\nX = list(h_DNA)+list(n_DNA)\\nprint(len(X))\\nX_train, X_test, Y_train, Y_test = train_test_split(X, Y, test_size = 0.20,  shuffle = True)\\n\\n\\nX_train=np.array(X_train)\\nX_test=np.array(X_test)\\nY_train = np.array(Y_train)\\n\\n#X_train=X_train.reshape((X_train.shape[0],X_train.shape[1],1))\\n#X_test=X_test.reshape((X_test.shape[0],X_test.shape[1],1))\\n\\nprint(X_train.shape)\\nprint(Y_train.shape)'"
      ]
     },
     "execution_count": 17,
     "metadata": {},
     "output_type": "execute_result"
    }
   ],
   "source": [
    "\"\"\"from keras.preprocessing.text import Tokenizer\n",
    "from keras.preprocessing.sequence import pad_sequences\n",
    "from sklearn.feature_extraction.text import CountVectorizer\n",
    "from sklearn.feature_extraction.text import TfidfTransformer\n",
    "from sklearn.model_selection import train_test_split\n",
    "#test 2\n",
    "Y = [1]*len(h_DNA)+[0]*len(n_DNA)\n",
    "print(len(h_DNA))\n",
    "print(len(Y))\n",
    "X = list(h_DNA)+list(n_DNA)\n",
    "print(len(X))\n",
    "X_train, X_test, Y_train, Y_test = train_test_split(X, Y, test_size = 0.20,  shuffle = True)\n",
    "\n",
    "\n",
    "X_train=np.array(X_train)\n",
    "X_test=np.array(X_test)\n",
    "Y_train = np.array(Y_train)\n",
    "\n",
    "#X_train=X_train.reshape((X_train.shape[0],X_train.shape[1],1))\n",
    "#X_test=X_test.reshape((X_test.shape[0],X_test.shape[1],1))\n",
    "\n",
    "print(X_train.shape)\n",
    "print(Y_train.shape)\"\"\""
   ]
  },
  {
   "cell_type": "code",
   "execution_count": null,
   "metadata": {},
   "outputs": [],
   "source": []
  },
  {
   "cell_type": "markdown",
   "metadata": {},
   "source": [
    "## Let's build an LSTM NN"
   ]
  },
  {
   "cell_type": "code",
   "execution_count": 18,
   "metadata": {},
   "outputs": [
    {
     "name": "stderr",
     "output_type": "stream",
     "text": [
      "/home/ubuntu/anaconda3/lib/python3.7/site-packages/ipykernel_launcher.py:10: UserWarning: The `dropout` argument is no longer support in `Embedding`. You can apply a `keras.layers.SpatialDropout1D` layer right after the `Embedding` layer to get the same behavior.\n",
      "  # Remove the CWD from sys.path while we load stuff.\n"
     ]
    },
    {
     "name": "stdout",
     "output_type": "stream",
     "text": [
      "Model: \"sequential_1\"\n",
      "_________________________________________________________________\n",
      "Layer (type)                 Output Shape              Param #   \n",
      "=================================================================\n",
      "embedding_1 (Embedding)      (None, 200, 32)           32800     \n",
      "_________________________________________________________________\n",
      "lstm_2 (LSTM)                (None, 10)                1720      \n",
      "_________________________________________________________________\n",
      "dense_5 (Dense)              (None, 5)                 55        \n",
      "_________________________________________________________________\n",
      "dense_6 (Dense)              (None, 1)                 6         \n",
      "=================================================================\n",
      "Total params: 34,581\n",
      "Trainable params: 34,581\n",
      "Non-trainable params: 0\n",
      "_________________________________________________________________\n",
      "None\n"
     ]
    }
   ],
   "source": [
    "from keras.models import Sequential\n",
    "from keras.callbacks import ModelCheckpoint\n",
    "from keras.optimizers import SGD, Adam, Adadelta, RMSprop\n",
    "from keras.layers import Conv1D, Dense, MaxPooling1D, Flatten, Dropout\n",
    "from keras.layers import Embedding, GlobalAveragePooling1D, LSTM, SimpleRNN, GRU, Bidirectional\n",
    "from keras.layers.convolutional_recurrent import ConvLSTM2D\n",
    "from keras import regularizers\n",
    "\n",
    "model = Sequential()\n",
    "model.add(Embedding(vocab_size, 32, input_length = max_length, dropout = 0.2))\n",
    "#model.add(SimpleRNN(10, dropout = 0.2, recurrent_dropout = 0.2))  #this sucks\n",
    "model.add(LSTM(10, dropout = 0.2, recurrent_dropout = 0.2))  #totally killing it\n",
    "#model.add(Conv1D(10, dropout = 0.2, recurrent_dropout = 0.2)) \n",
    "\n",
    "model.add(Dense(5,\n",
    "                kernel_regularizer=regularizers.l2(0.01),\n",
    "                activity_regularizer=regularizers.l1(0.01)))\n",
    "model.add(Dense(1, activation = 'sigmoid'))\n",
    "\n",
    "\n",
    "model.compile(loss = 'binary_crossentropy', optimizer = 'rmsprop', metrics = ['accuracy'])\n",
    "checkpoint = ModelCheckpoint(\"weights.best.hdf5\", monitor = 'val_acc', verbose = 1, \n",
    "                             save_best_only = True, mode = 'max')\n",
    "print(model.summary())"
   ]
  },
  {
   "cell_type": "code",
   "execution_count": 54,
   "metadata": {},
   "outputs": [
    {
     "name": "stdout",
     "output_type": "stream",
     "text": [
      "(4800, 200)\n"
     ]
    },
    {
     "name": "stderr",
     "output_type": "stream",
     "text": [
      "/home/ubuntu/anaconda3/lib/python3.7/site-packages/ipykernel_launcher.py:15: UserWarning: The `dropout` argument is no longer support in `Embedding`. You can apply a `keras.layers.SpatialDropout1D` layer right after the `Embedding` layer to get the same behavior.\n",
      "  from ipykernel import kernelapp as app\n"
     ]
    },
    {
     "data": {
      "image/png": "[encoded data removed]",
      "text/plain": [
       "<IPython.core.display.Image object>"
      ]
     },
     "execution_count": 54,
     "metadata": {},
     "output_type": "execute_result"
    }
   ],
   "source": [
    "print(X_train.shape)\n",
    "\n",
    "\n",
    "import keras\n",
    "from keras.models import Sequential\n",
    "from keras.callbacks import ModelCheckpoint\n",
    "from keras.optimizers import SGD, Adam, Adadelta, RMSprop\n",
    "from keras.layers import Conv1D, Dense, MaxPooling1D, Flatten, Dropout, concatenate\n",
    "from keras.layers import Embedding, GlobalAveragePooling1D, LSTM, SimpleRNN, GRU, Bidirectional\n",
    "from keras.layers.convolutional_recurrent import ConvLSTM2D\n",
    "from keras import regularizers\n",
    "n_clusters=1\n",
    "#inputs= keras.Input(shape=(max_length,1))\n",
    "inputs= keras.Input(shape=(max_length,))\n",
    "emb=Embedding(vocab_size, 32, input_length = max_length, dropout = 0.2)(inputs)\n",
    "lstm=[]\n",
    "conv1 = Conv1D(filters=1,\n",
    "               kernel_size=3,\n",
    "               strides=1,\n",
    "               activation='relu')(emb)\n",
    "pool1 = MaxPooling1D(pool_size=3)(conv1)\n",
    "for i in range(n_clusters):\n",
    "    lstm.append(Bidirectional(LSTM(N_genes, dropout=0.1))(emb))\n",
    "    \n",
    "#merge=concatenate([l for l in lstm])\n",
    "#d=Dense(10 ,kernel_regularizer=regularizers.l1(0.01))(lstm[0])\n",
    "d1=Dense(5,kernel_regularizer=regularizers.l2(0.01))(lstm[0])\n",
    "f=Dense(1, activation = 'sigmoid')(d1)\n",
    "\n",
    "model = keras.Model(inputs = inputs , outputs = f, name = \"test\")\n",
    "model.compile(loss = 'binary_crossentropy', optimizer = 'rmsprop', metrics = ['accuracy'])\n",
    "keras.utils.plot_model(model, show_shapes = True)"
   ]
  },
  {
   "cell_type": "markdown",
   "metadata": {},
   "source": [
    "\n",
    "#Manopole\n",
    "#decide the percentage of geneDNA in a sentence.\n",
    "pc_genes=0.7\n",
    "#How many genes?\n",
    "N_genes= 30\n",
    "#Choose genes to correlate\n",
    "#How many?\n",
    "avg_dimension_of_correlation_clusters=10\n",
    "b=0.5 #how different are different genes ? max 0.5\n",
    "fraction_of_mutations_per_gene=1#percentage of random mutations in gene variants\n",
    "variants=4 #how may variants?\n",
    "det=0.0  #how much deterministic is the markov chain 0 MAX 0.25 Min  shuffle(prob(det det det 1-3*det))\n",
    "forward_mc = False#do you want forward markov chain?\n",
    "N_people= 3000\n",
    "sentence_length= 999 #HOW LONG A SENTENCE in letters\n",
    "word_length=3 #HOW LONG A WORD in letters\n",
    "\n",
    "same = True\n",
    "with embedding -> WORKSS!! Thus no random..\n",
    "\n",
    "\n",
    "worked with det = 0.05\n",
    "\n",
    "30 it 80% acc\n",
    "\n",
    "det = 0.01\n",
    "30 it   67%"
   ]
  },
  {
   "cell_type": "code",
   "execution_count": 55,
   "metadata": {},
   "outputs": [
    {
     "name": "stderr",
     "output_type": "stream",
     "text": [
      "/home/ubuntu/anaconda3/lib/python3.7/site-packages/tensorflow_core/python/framework/indexed_slices.py:433: UserWarning: Converting sparse IndexedSlices to a dense Tensor of unknown shape. This may consume a large amount of memory.\n",
      "  \"Converting sparse IndexedSlices to a dense Tensor of unknown shape. \"\n"
     ]
    },
    {
     "name": "stdout",
     "output_type": "stream",
     "text": [
      "Train on 3840 samples, validate on 960 samples\n",
      "Epoch 1/30\n",
      "3840/3840 [==============================] - 38s 10ms/step - loss: 0.7551 - accuracy: 0.4958 - val_loss: 0.7312 - val_accuracy: 0.4792\n",
      "Epoch 2/30\n",
      "3840/3840 [==============================] - 36s 9ms/step - loss: 0.7153 - accuracy: 0.5206 - val_loss: 0.7050 - val_accuracy: 0.5552\n",
      "Epoch 3/30\n",
      "3840/3840 [==============================] - 38s 10ms/step - loss: 0.6946 - accuracy: 0.5672 - val_loss: 0.7637 - val_accuracy: 0.4865\n",
      "Epoch 4/30\n",
      "3840/3840 [==============================] - 36s 9ms/step - loss: 0.6960 - accuracy: 0.5383 - val_loss: 0.7003 - val_accuracy: 0.5188\n",
      "Epoch 5/30\n",
      "3840/3840 [==============================] - 37s 10ms/step - loss: 0.6811 - accuracy: 0.5742 - val_loss: 0.7071 - val_accuracy: 0.5240\n",
      "Epoch 6/30\n",
      "3840/3840 [==============================] - 38s 10ms/step - loss: 0.6498 - accuracy: 0.6393 - val_loss: 0.7180 - val_accuracy: 0.5063\n",
      "Epoch 7/30\n",
      "3840/3840 [==============================] - 32s 8ms/step - loss: 0.6132 - accuracy: 0.6729 - val_loss: 0.6937 - val_accuracy: 0.5719\n",
      "Epoch 8/30\n",
      "3840/3840 [==============================] - 35s 9ms/step - loss: 0.5356 - accuracy: 0.7469 - val_loss: 0.6954 - val_accuracy: 0.6094\n",
      "Epoch 9/30\n",
      "3840/3840 [==============================] - 37s 10ms/step - loss: 0.4781 - accuracy: 0.7880 - val_loss: 0.7228 - val_accuracy: 0.5906\n",
      "Epoch 10/30\n",
      "3840/3840 [==============================] - 39s 10ms/step - loss: 0.4336 - accuracy: 0.8104 - val_loss: 0.6470 - val_accuracy: 0.6750\n",
      "Epoch 11/30\n",
      "3840/3840 [==============================] - 38s 10ms/step - loss: 0.4442 - accuracy: 0.8057 - val_loss: 0.6779 - val_accuracy: 0.6687\n",
      "Epoch 12/30\n",
      "3840/3840 [==============================] - 38s 10ms/step - loss: 0.4339 - accuracy: 0.8083 - val_loss: 0.6146 - val_accuracy: 0.7135\n",
      "Epoch 13/30\n",
      "3840/3840 [==============================] - 37s 10ms/step - loss: 0.3508 - accuracy: 0.8607 - val_loss: 0.6816 - val_accuracy: 0.6979\n",
      "Epoch 14/30\n",
      "3840/3840 [==============================] - 37s 10ms/step - loss: 0.3232 - accuracy: 0.8745 - val_loss: 0.6590 - val_accuracy: 0.7198\n",
      "Epoch 15/30\n",
      "3840/3840 [==============================] - 35s 9ms/step - loss: 0.3032 - accuracy: 0.8826 - val_loss: 0.7164 - val_accuracy: 0.7188\n",
      "Epoch 16/30\n",
      "3840/3840 [==============================] - 37s 10ms/step - loss: 0.2842 - accuracy: 0.8935 - val_loss: 0.6702 - val_accuracy: 0.7135\n",
      "Epoch 17/30\n",
      "3840/3840 [==============================] - 39s 10ms/step - loss: 0.2555 - accuracy: 0.9081 - val_loss: 0.6822 - val_accuracy: 0.7063\n",
      "Epoch 18/30\n",
      "3840/3840 [==============================] - 37s 10ms/step - loss: 0.2502 - accuracy: 0.9122 - val_loss: 0.7278 - val_accuracy: 0.7000\n",
      "Epoch 19/30\n",
      "3840/3840 [==============================] - 35s 9ms/step - loss: 0.2269 - accuracy: 0.9208 - val_loss: 0.7762 - val_accuracy: 0.7115\n",
      "Epoch 20/30\n",
      "3840/3840 [==============================] - 38s 10ms/step - loss: 0.2078 - accuracy: 0.9279 - val_loss: 0.7998 - val_accuracy: 0.6917\n",
      "Epoch 21/30\n",
      "3840/3840 [==============================] - 35s 9ms/step - loss: 0.1928 - accuracy: 0.9354 - val_loss: 0.8182 - val_accuracy: 0.6906\n",
      "Epoch 22/30\n",
      "3840/3840 [==============================] - 37s 10ms/step - loss: 0.1762 - accuracy: 0.9451 - val_loss: 0.8061 - val_accuracy: 0.7260\n",
      "Epoch 23/30\n",
      "3840/3840 [==============================] - 34s 9ms/step - loss: 0.1706 - accuracy: 0.9448 - val_loss: 0.8629 - val_accuracy: 0.7156\n",
      "Epoch 24/30\n",
      "3840/3840 [==============================] - 34s 9ms/step - loss: 0.1584 - accuracy: 0.9521 - val_loss: 0.8387 - val_accuracy: 0.7281\n",
      "Epoch 25/30\n",
      "3840/3840 [==============================] - 37s 10ms/step - loss: 0.1539 - accuracy: 0.9513 - val_loss: 0.8547 - val_accuracy: 0.7292\n",
      "Epoch 26/30\n",
      "3840/3840 [==============================] - 38s 10ms/step - loss: 0.1329 - accuracy: 0.9622 - val_loss: 0.8690 - val_accuracy: 0.7333\n",
      "Epoch 27/30\n",
      "3840/3840 [==============================] - 36s 9ms/step - loss: 0.1307 - accuracy: 0.9643 - val_loss: 0.9191 - val_accuracy: 0.7417\n",
      "Epoch 28/30\n",
      "3840/3840 [==============================] - 36s 9ms/step - loss: 0.1220 - accuracy: 0.9643 - val_loss: 0.9510 - val_accuracy: 0.7125\n",
      "Epoch 29/30\n",
      "3840/3840 [==============================] - 37s 10ms/step - loss: 0.1095 - accuracy: 0.9716 - val_loss: 0.9964 - val_accuracy: 0.7135\n",
      "Epoch 30/30\n",
      "3840/3840 [==============================] - 37s 10ms/step - loss: 0.1098 - accuracy: 0.9682 - val_loss: 1.1505 - val_accuracy: 0.7125\n"
     ]
    }
   ],
   "source": [
    "epochs = 30\n",
    "history = model.fit(X_train, Y_train, epochs = epochs, verbose = 1, validation_split = 0.2, batch_size = 50, shuffle = True)"
   ]
  },
  {
   "cell_type": "code",
   "execution_count": 56,
   "metadata": {},
   "outputs": [
    {
     "data": {
      "image/png": "[encoded data removed]",
      "text/plain": [
       "<Figure size 432x288 with 2 Axes>"
      ]
     },
     "metadata": {
      "needs_background": "light"
     },
     "output_type": "display_data"
    }
   ],
   "source": [
    "from sklearn.metrics import confusion_matrix\n",
    "import matplotlib.pyplot as plt\n",
    "import itertools\n",
    "\n",
    "predicted_labels = model.predict(X_test)\n",
    "cm = confusion_matrix(Y_test, [np.round(i[0]) for i in predicted_labels])\n",
    "cm = cm.astype('float') / cm.sum(axis = 1)[:, np.newaxis]\n",
    "\n",
    "\n",
    "\n",
    "plt.imshow(cm, cmap = plt.cm.Blues)\n",
    "plt.title('Normalized confusion matrix', fontsize = 15)\n",
    "plt.colorbar()\n",
    "plt.xlabel('True label', fontsize = 15)\n",
    "plt.ylabel('Predicted label', fontsize = 15)\n",
    "for i, j in itertools.product(range(cm.shape[0]), range(cm.shape[1])):\n",
    "    plt.text(j, i, format(cm[i, j], '.2f'),\n",
    "             horizontalalignment = 'center', verticalalignment = 'center', fontsize = 20,\n",
    "             color='white' if cm[i, j] > 0.5 else 'black')\n",
    "plt.show()"
   ]
  },
  {
   "cell_type": "code",
   "execution_count": null,
   "metadata": {},
   "outputs": [],
   "source": []
  }
 ],
 "metadata": {
  "kernelspec": {
   "display_name": "Python 3",
   "language": "python",
   "name": "python3"
  },
  "language_info": {
   "codemirror_mode": {
    "name": "ipython",
    "version": 3
   },
   "file_extension": ".py",
   "mimetype": "text/x-python",
   "name": "python",
   "nbconvert_exporter": "python",
   "pygments_lexer": "ipython3",
   "version": "3.7.6"
  }
 },
 "nbformat": 4,
 "nbformat_minor": 4
}
