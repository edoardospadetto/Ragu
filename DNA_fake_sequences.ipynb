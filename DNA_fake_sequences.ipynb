{
 "cells": [
  {
   "cell_type": "markdown",
   "metadata": {},
   "source": [
    "## Create The PDFs for the Markov Chain"
   ]
  },
  {
   "cell_type": "code",
   "execution_count": 1,
   "metadata": {},
   "outputs": [
    {
     "name": "stdout",
     "output_type": "stream",
     "text": [
      "['G' 'A' 'T' 'C']\n",
      "A 1 T 3\n",
      "C 3 G 2\n",
      "G 0 A 0\n",
      "T 2 C 1\n",
      "['C' 'A' 'T' 'G']\n",
      "A 1 T 3\n",
      "C 0 A 0\n",
      "G 3 C 1\n",
      "T 2 G 2\n"
     ]
    },
    {
     "data": {
      "text/html": [
       "<div>\n",
       "<style scoped>\n",
       "    .dataframe tbody tr th:only-of-type {\n",
       "        vertical-align: middle;\n",
       "    }\n",
       "\n",
       "    .dataframe tbody tr th {\n",
       "        vertical-align: top;\n",
       "    }\n",
       "\n",
       "    .dataframe thead th {\n",
       "        text-align: right;\n",
       "    }\n",
       "</style>\n",
       "<table border=\"1\" class=\"dataframe\">\n",
       "  <thead>\n",
       "    <tr style=\"text-align: right;\">\n",
       "      <th></th>\n",
       "      <th>A</th>\n",
       "      <th>C</th>\n",
       "      <th>G</th>\n",
       "      <th>T</th>\n",
       "    </tr>\n",
       "  </thead>\n",
       "  <tbody>\n",
       "    <tr>\n",
       "      <th>0</th>\n",
       "      <td>[0.10000000000000002, 0.20000000000000004, 0.3...</td>\n",
       "      <td>[0.7000000000000001, 0.8, 0.9, 1.0]</td>\n",
       "      <td>[0.10000000000000003, 0.8, 0.9, 1.0]</td>\n",
       "      <td>[0.10000000000000002, 0.20000000000000004, 0.9...</td>\n",
       "    </tr>\n",
       "    <tr>\n",
       "      <th>1</th>\n",
       "      <td>[A, C, G, T]</td>\n",
       "      <td>[A, C, G, T]</td>\n",
       "      <td>[A, C, G, T]</td>\n",
       "      <td>[A, C, G, T]</td>\n",
       "    </tr>\n",
       "  </tbody>\n",
       "</table>\n",
       "</div>"
      ],
      "text/plain": [
       "                                                   A  \\\n",
       "0  [0.10000000000000002, 0.20000000000000004, 0.3...   \n",
       "1                                       [A, C, G, T]   \n",
       "\n",
       "                                     C                                     G  \\\n",
       "0  [0.7000000000000001, 0.8, 0.9, 1.0]  [0.10000000000000003, 0.8, 0.9, 1.0]   \n",
       "1                         [A, C, G, T]                          [A, C, G, T]   \n",
       "\n",
       "                                                   T  \n",
       "0  [0.10000000000000002, 0.20000000000000004, 0.9...  \n",
       "1                                       [A, C, G, T]  "
      ]
     },
     "metadata": {},
     "output_type": "display_data"
    },
    {
     "data": {
      "text/html": [
       "<div>\n",
       "<style scoped>\n",
       "    .dataframe tbody tr th:only-of-type {\n",
       "        vertical-align: middle;\n",
       "    }\n",
       "\n",
       "    .dataframe tbody tr th {\n",
       "        vertical-align: top;\n",
       "    }\n",
       "\n",
       "    .dataframe thead th {\n",
       "        text-align: right;\n",
       "    }\n",
       "</style>\n",
       "<table border=\"1\" class=\"dataframe\">\n",
       "  <thead>\n",
       "    <tr style=\"text-align: right;\">\n",
       "      <th></th>\n",
       "      <th>A</th>\n",
       "      <th>C</th>\n",
       "      <th>G</th>\n",
       "      <th>T</th>\n",
       "    </tr>\n",
       "  </thead>\n",
       "  <tbody>\n",
       "    <tr>\n",
       "      <th>0</th>\n",
       "      <td>[0.10000000000000002, 0.20000000000000004, 0.3...</td>\n",
       "      <td>[0.10000000000000002, 0.20000000000000004, 0.9...</td>\n",
       "      <td>[0.7000000000000001, 0.8, 0.9, 1.0]</td>\n",
       "      <td>[0.10000000000000003, 0.8, 0.9, 1.0]</td>\n",
       "    </tr>\n",
       "    <tr>\n",
       "      <th>1</th>\n",
       "      <td>[A, C, G, T]</td>\n",
       "      <td>[A, C, G, T]</td>\n",
       "      <td>[A, C, G, T]</td>\n",
       "      <td>[A, C, G, T]</td>\n",
       "    </tr>\n",
       "  </tbody>\n",
       "</table>\n",
       "</div>"
      ],
      "text/plain": [
       "                                                   A  \\\n",
       "0  [0.10000000000000002, 0.20000000000000004, 0.3...   \n",
       "1                                       [A, C, G, T]   \n",
       "\n",
       "                                                   C  \\\n",
       "0  [0.10000000000000002, 0.20000000000000004, 0.9...   \n",
       "1                                       [A, C, G, T]   \n",
       "\n",
       "                                     G                                     T  \n",
       "0  [0.7000000000000001, 0.8, 0.9, 1.0]  [0.10000000000000003, 0.8, 0.9, 1.0]  \n",
       "1                         [A, C, G, T]                          [A, C, G, T]  "
      ]
     },
     "metadata": {},
     "output_type": "display_data"
    },
    {
     "name": "stdout",
     "output_type": "stream",
     "text": [
      "KullBack_Leibler symmetric divergence :  7.005276536599126\n"
     ]
    }
   ],
   "source": [
    "#Markov chain\n",
    "import time\n",
    "\n",
    "import numpy as np\n",
    "import pandas as pd\n",
    "a= 0.7   # The P of the predominant chain\n",
    "p_res=(1-a)/3\n",
    "nitro_base=[\"A\",\"C\",\"G\",\"T\"]\n",
    "nth=np.array(nitro_base)\n",
    "markov_chain={}\n",
    "pdf_neanderthal={\"A\":[p_res]*4,\"C\":[p_res]*4, \"G\":[p_res]*4, \"T\":[p_res]*4}\n",
    "pdf_human={\"A\":[p_res]*4,\"C\":[p_res]*4, \"G\":[p_res]*4, \"T\":[p_res]*4}\n",
    "\n",
    "\n",
    "j_mtx_h=[]\n",
    "j_mtx_n=[]\n",
    "\n",
    "#Build The Matrices\n",
    "\n",
    "np.random.shuffle(nth)\n",
    "print(nth)\n",
    "for k in nitro_base:\n",
    "    pdf_neanderthal[k][ np.where(nth[(np.where(k==nth)[0][0]+1)%len(nth)] == np.array(nitro_base))[0][0] ]=a\n",
    "    print(k,(np.where(k==nth)[0][0])%len(nth),nth[(np.where(k==nth)[0][0]+1)%len(nth)] ,\n",
    "          np.where(nth[(np.where(k==nth)[0][0]+1)%len(nth)] == np.array(nitro_base))[0][0] )\n",
    "    \n",
    "    j_mtx_n.append( np.array(pdf_neanderthal[k])/sum( pdf_neanderthal[k]) )\n",
    "    pdf_neanderthal[k]=[np.cumsum(pdf_neanderthal[k])/sum( pdf_neanderthal[k]),nitro_base]\n",
    "\n",
    "np.random.shuffle(nth)\n",
    "print(nth)\n",
    "for k in nitro_base:\n",
    "    print(k,(np.where(k==nth)[0][0])%len(nth),nth[(np.where(k==nth)[0][0]+1)%len(nth)] ,\n",
    "          np.where(nth[(np.where(k==nth)[0][0]+1)%len(nth)] == np.array(nitro_base))[0][0] )\n",
    "    pdf_human[k][ np.where(nth[(np.where(k==nth)[0][0]+1)%len(nth)] == np.array(nitro_base))[0][0] ]=a\n",
    "    j_mtx_h.append( np.array(pdf_human[k])/sum( pdf_human[k]) )\n",
    "    pdf_human[k]=[np.cumsum(pdf_human[k])/sum( pdf_human[k]),nitro_base]\n",
    "\"\"\"\n",
    "\n",
    "print(\"Neanderthal\")\n",
    "for k in pdf_neanderthal.keys():\n",
    "    probs=np.random.random(4)*2*a +(0.5-a)\n",
    "    probs_nb=probs/sum(probs)\n",
    "    j_mtx_n.append(probs_nb)\n",
    "    print(np.cumsum(probs_nb))\n",
    "    pdf_neanderthal[k]=[np.cumsum(probs_nb),nitro_base]\n",
    "    \n",
    "print(\"Human\") \n",
    "for k in pdf_human.keys():\n",
    "    probs=np.random.random(4)*2*a +(0.5-a)\n",
    "    probs_nb=probs/sum(probs)\n",
    "    j_mtx_h.append(probs_nb)\n",
    "    print(np.cumsum(probs_nb))\n",
    "    pdf_human[k]=[np.cumsum(probs_nb),nitro_base]\n",
    "\"\"\"  \n",
    "display(pd.DataFrame(pdf_human))\n",
    "display(pd.DataFrame(pdf_neanderthal))\n",
    "similarity= 0\n",
    "\n",
    "for i in range(4):\n",
    "    for j in range(4):\n",
    "        similarity+= j_mtx_h[i][j]*np.log(j_mtx_h[i][j]/j_mtx_n[i][j])+j_mtx_n[i][j]*np.log(j_mtx_n[i][j]/j_mtx_h[i][j])\n",
    "print(\"KullBack_Leibler symmetric divergence : \", similarity)"
   ]
  },
  {
   "cell_type": "markdown",
   "metadata": {},
   "source": [
    "## Monte Carlo on the Markov Chain and build DNA"
   ]
  },
  {
   "cell_type": "code",
   "execution_count": 2,
   "metadata": {},
   "outputs": [
    {
     "name": "stdout",
     "output_type": "stream",
     "text": [
      "DONE HUMAN\n",
      "DONE NEANDERTHAL\n",
      "18000000\n",
      "18000000\n",
      "['A' 'T' 'G' 'G' 'G' 'G' 'T' 'T' 'G' 'A']\n",
      "['A' 'C' 'T' 'C' 'G' 'G' 'T' 'T' 'A' 'T']\n"
     ]
    }
   ],
   "source": [
    "#Build DNA\n",
    "\n",
    "#Human\n",
    "\n",
    "DNA_length= 18000000\n",
    "human_DNA=['A']   \n",
    "neanderthal_DNA=['A']\n",
    "for i in range(DNA_length-1): \n",
    "    MC=np.random.random(1)\n",
    "    for lim,what in zip(pdf_human[human_DNA[-1]][0],pdf_human[human_DNA[-1]][1] ):\n",
    "        if(MC<=lim): \n",
    "            human_DNA.append(what)\n",
    "            MC= 0\n",
    "            break\n",
    "print(\"DONE HUMAN\")\n",
    "#Neanderthal\n",
    "\n",
    "for i in range(DNA_length-1):   \n",
    "    MC=np.random.random(1)\n",
    "    for lim,what in zip(pdf_neanderthal[neanderthal_DNA[-1]][0],pdf_neanderthal[neanderthal_DNA[-1]][1] ):\n",
    "        if(MC<=lim): \n",
    "            neanderthal_DNA.append(what)\n",
    "            MC =0\n",
    "            break\n",
    "print(\"DONE NEANDERTHAL\")\n",
    "human_DNA=np.array(human_DNA)\n",
    "neanderthal_DNA=np.array(neanderthal_DNA)\n",
    "print(len(human_DNA))\n",
    "print(len(neanderthal_DNA))\n",
    "\n",
    "print(human_DNA[:10])\n",
    "print(neanderthal_DNA[:10])"
   ]
  },
  {
   "cell_type": "markdown",
   "metadata": {},
   "source": [
    "## Divide in Sentences and then in Words (not overlapping) \n"
   ]
  },
  {
   "cell_type": "code",
   "execution_count": 3,
   "metadata": {},
   "outputs": [
    {
     "name": "stdout",
     "output_type": "stream",
     "text": [
      "(200, 18000, 5)\n",
      "(200, 18000, 5)\n",
      "words,sentences,letters\n"
     ]
    }
   ],
   "source": [
    "sentence_length= 1000 #HOW LONG A SENTENCE in letters\n",
    "word_length=5 #HOW LONG A WORD in letters\n",
    "\n",
    "#warning number of sentences * word_lenght * sentence_lenght must be equal to the number of nucleotides\n",
    "\n",
    "#divide in sentences\n",
    "h_DNA_s= np.array(np.split(human_DNA, DNA_length//sentence_length))\n",
    "n_DNA_s= np.array(np.split(neanderthal_DNA, DNA_length//sentence_length))\n",
    "\n",
    "#divide in words\n",
    "h_DNA= np.array(np.split(h_DNA_s, sentence_length//word_length, axis=1  ))\n",
    "n_DNA= np.array(np.split(n_DNA_s, sentence_length//word_length , axis=1 ))\n",
    "\n",
    "print(h_DNA.shape)\n",
    "print(n_DNA.shape)\n",
    "print(\"words,sentences,letters\")\n",
    "\n"
   ]
  },
  {
   "cell_type": "markdown",
   "metadata": {},
   "source": [
    "## Check the words frequency for DNA"
   ]
  },
  {
   "cell_type": "code",
   "execution_count": 4,
   "metadata": {},
   "outputs": [
    {
     "name": "stdout",
     "output_type": "stream",
     "text": [
      "(18000, 200)\n"
     ]
    },
    {
     "data": {
      "text/plain": [
       "array(['ATGGG', 'GTTGA', 'TGGCA', ..., 'CATGC', 'GCATG', 'AGCAT'],\n",
       "      dtype='<U5')"
      ]
     },
     "metadata": {},
     "output_type": "display_data"
    },
    {
     "name": "stdout",
     "output_type": "stream",
     "text": [
      "here\n",
      "there\n",
      "20\n"
     ]
    },
    {
     "data": {
      "image/png": "[encoded data removed]",
      "text/plain": [
       "<Figure size 432x288 with 1 Axes>"
      ]
     },
     "metadata": {
      "needs_background": "light"
     },
     "output_type": "display_data"
    },
    {
     "name": "stdout",
     "output_type": "stream",
     "text": [
      "here\n",
      "there\n",
      "20\n"
     ]
    },
    {
     "data": {
      "image/png": "[encoded data removed]",
      "text/plain": [
       "<Figure size 432x288 with 1 Axes>"
      ]
     },
     "metadata": {
      "needs_background": "light"
     },
     "output_type": "display_data"
    }
   ],
   "source": [
    "#make words strings.\n",
    "h_DNA = np.array([[''.join(h_DNA[i,j,:]) for i in range(h_DNA.shape[0]) ]for \n",
    "                  j in range(h_DNA.shape[1])])\n",
    "#make words strings.\n",
    "n_DNA = np.array([[''.join(n_DNA[i,j,:]) for i in range(n_DNA.shape[0]) ]for \n",
    "                  j in range(n_DNA.shape[1])])\n",
    "\n",
    "print(h_DNA.shape)\n",
    "\n",
    "h_DNA_check= h_DNA.reshape(DNA_length//word_length)\n",
    "n_DNA_check= n_DNA.reshape(DNA_length//word_length)\n",
    "display(h_DNA_check)\n",
    "h_DNA_check1=[]\n",
    "n_DNA_check1=[]\n",
    "\n",
    "\n",
    "\n",
    "from collections import Counter\n",
    "import matplotlib.pyplot as  plt\n",
    "\n",
    "\n",
    "##HUMAN\n",
    "print(\"here\")\n",
    "counts_h=dict(Counter(h_DNA_check).most_common(20))\n",
    "print(\"there\")\n",
    "labels_h, values_h = zip(*counts_h.items())\n",
    "\n",
    "#sort\n",
    "indsort_h = np.argsort(values_h)[::-1]\n",
    "\n",
    "#re_arrange\n",
    "labels_h= np.array(labels_h)[indsort_h]\n",
    "values_h= np.array(values_h)[indsort_h]\n",
    "indexes_h = np.arange(len(values_h))\n",
    "bar_width=0.2\n",
    "\n",
    "plt.bar(indexes_h, values_h/sum(values_h), color = \"#64D9F0\")\n",
    "plt.xticks(indexes_h+bar_width,labels_h, rotation= 90)\n",
    "print(len(counts_h))\n",
    "plt.savefig('MonteCarlo_humans.png',bbox_inches='tight')\n",
    "plt.show()\n",
    "\n",
    "##NEANDERTHAL\n",
    "print(\"here\")\n",
    "counts_n=dict(Counter(n_DNA_check).most_common(20))\n",
    "print(\"there\")\n",
    "labels_n, values_n = zip(*counts_n.items())\n",
    "\n",
    "#sort\n",
    "indsort_n = np.argsort(values_n)[::-1]\n",
    "\n",
    "#re_arrange\n",
    "labels_n= np.array(labels_n)[indsort_n]\n",
    "values_n= np.array(values_n)[indsort_n]\n",
    "indexes_n = np.arange(len(values_n))\n",
    "bar_width=0.2\n",
    "plt.bar(indexes_n, values_n/sum(values_n), color = \"#F58F8F\")\n",
    "plt.xticks(indexes_n+bar_width,labels_n, rotation= 90)\n",
    "print(len(counts_n))\n",
    "plt.savefig('MonteCarlo_neanderthal.png',bbox_inches='tight')\n",
    "plt.show()"
   ]
  },
  {
   "cell_type": "markdown",
   "metadata": {},
   "source": [
    "## Prepare Data for NN"
   ]
  },
  {
   "cell_type": "code",
   "execution_count": 5,
   "metadata": {},
   "outputs": [
    {
     "name": "stderr",
     "output_type": "stream",
     "text": [
      "Using TensorFlow backend.\n"
     ]
    },
    {
     "name": "stdout",
     "output_type": "stream",
     "text": [
      "(28800, 200)\n",
      "28800\n",
      "1025\n"
     ]
    }
   ],
   "source": [
    "\n",
    "h_DNA_NN=[' '.join(h_DNA[i,:]) for i in range(h_DNA.shape[0])]\n",
    "n_DNA_NN=[' '.join(n_DNA[i,:]) for i in range(n_DNA.shape[0])]\n",
    "\n",
    "DNA_NN = h_DNA_NN+n_DNA_NN\n",
    "Y = [1]*len(h_DNA_NN)+[0]*len(n_DNA_NN)\n",
    "\n",
    "\n",
    "from keras.preprocessing.text import Tokenizer\n",
    "from keras.preprocessing.sequence import pad_sequences\n",
    "from sklearn.feature_extraction.text import CountVectorizer\n",
    "from sklearn.feature_extraction.text import TfidfTransformer\n",
    "\n",
    "tokenizer = Tokenizer()\n",
    "tokenizer.fit_on_texts(DNA_NN)\n",
    "\n",
    "encoded_docs = tokenizer.texts_to_sequences(DNA_NN)\n",
    "max_length = max([len(s.split()) for s in DNA_NN])\n",
    "X = pad_sequences(encoded_docs, maxlen = max_length, padding = 'post')\n",
    "\n",
    "\n",
    "from sklearn.model_selection import train_test_split\n",
    "X_train, X_test, Y_train, Y_test = train_test_split(X, Y, test_size = 0.20, random_state = 42, shuffle = True)\n",
    "\n",
    "print(X_train.shape)\n",
    "print(len(Y_train))\n",
    "\n",
    "vocab_size = len(tokenizer.word_index) + 1\n",
    "print(vocab_size)"
   ]
  },
  {
   "cell_type": "markdown",
   "metadata": {},
   "source": [
    "## Lets' build CNN"
   ]
  },
  {
   "cell_type": "code",
   "execution_count": 6,
   "metadata": {},
   "outputs": [
    {
     "name": "stdout",
     "output_type": "stream",
     "text": [
      "Model: \"sequential_1\"\n",
      "_________________________________________________________________\n",
      "Layer (type)                 Output Shape              Param #   \n",
      "=================================================================\n",
      "embedding_1 (Embedding)      (None, 200, 32)           32800     \n",
      "_________________________________________________________________\n",
      "conv1d_1 (Conv1D)            (None, 193, 2)            514       \n",
      "_________________________________________________________________\n",
      "max_pooling1d_1 (MaxPooling1 (None, 96, 2)             0         \n",
      "_________________________________________________________________\n",
      "flatten_1 (Flatten)          (None, 192)               0         \n",
      "_________________________________________________________________\n",
      "dense_1 (Dense)              (None, 5)                 965       \n",
      "_________________________________________________________________\n",
      "dense_2 (Dense)              (None, 1)                 6         \n",
      "=================================================================\n",
      "Total params: 34,285\n",
      "Trainable params: 34,285\n",
      "Non-trainable params: 0\n",
      "_________________________________________________________________\n",
      "None\n"
     ]
    },
    {
     "name": "stderr",
     "output_type": "stream",
     "text": [
      "/home/edoardospadetto/anaconda3/lib/python3.7/site-packages/ipykernel_launcher.py:10: UserWarning: The `dropout` argument is no longer support in `Embedding`. You can apply a `keras.layers.SpatialDropout1D` layer right after the `Embedding` layer to get the same behavior.\n",
      "  # Remove the CWD from sys.path while we load stuff.\n"
     ]
    },
    {
     "data": {
      "image/png": "[encoded data removed]",
      "text/plain": [
       "<IPython.core.display.Image object>"
      ]
     },
     "execution_count": 6,
     "metadata": {},
     "output_type": "execute_result"
    }
   ],
   "source": [
    "from keras.models import Sequential\n",
    "from keras.callbacks import ModelCheckpoint\n",
    "from keras.optimizers import SGD, Adam, Adadelta, RMSprop\n",
    "from keras.layers import Conv1D, Dense, MaxPooling1D, Flatten, Dropout\n",
    "from keras.layers import Embedding, GlobalAveragePooling1D, LSTM, SimpleRNN, GRU\n",
    "from keras import regularizers\n",
    "import keras.utils\n",
    "\n",
    "model = Sequential()\n",
    "model.add(Embedding(vocab_size, 32, input_length = max_length, dropout = 0.2))\n",
    "#model.add(SimpleRNN(10, dropout = 0.2, recurrent_dropout = 0.2))  #this sucks\n",
    "#model.add(LSTM(10, dropout = 0.2, recurrent_dropout = 0.2))  #totally killing it\n",
    "model.add(Conv1D(filters=2,\n",
    "               kernel_size=8,\n",
    "               strides=1,\n",
    "               activation='relu')) \n",
    "model.add(MaxPooling1D(pool_size=2)) \n",
    "model.add(Flatten())\n",
    "\n",
    "model.add(Dense(5,\n",
    "                kernel_regularizer=regularizers.l2(0.01),\n",
    "                activity_regularizer=regularizers.l1(0.01)))\n",
    "model.add(Dense(1, activation = 'sigmoid'))\n",
    "\n",
    "\n",
    "model.compile(loss = 'binary_crossentropy', optimizer = 'rmsprop', metrics = ['accuracy'])\n",
    "checkpoint = ModelCheckpoint(\"weights.best.hdf5\", monitor = 'val_acc', verbose = 1, \n",
    "                             save_best_only = True, mode = 'max')\n",
    "print(model.summary())\n",
    "\n",
    "\n",
    "keras.utils.plot_model(model, rankdir=\"LR\",  to_file=\"Monte_Carlo_CNN.png\")"
   ]
  },
  {
   "cell_type": "code",
   "execution_count": 7,
   "metadata": {
    "scrolled": true
   },
   "outputs": [
    {
     "name": "stderr",
     "output_type": "stream",
     "text": [
      "/home/edoardospadetto/anaconda3/lib/python3.7/site-packages/tensorflow_core/python/framework/indexed_slices.py:433: UserWarning: Converting sparse IndexedSlices to a dense Tensor of unknown shape. This may consume a large amount of memory.\n",
      "  \"Converting sparse IndexedSlices to a dense Tensor of unknown shape. \"\n"
     ]
    },
    {
     "name": "stdout",
     "output_type": "stream",
     "text": [
      "Train on 23040 samples, validate on 5760 samples\n",
      "Epoch 1/10\n",
      "23040/23040 [==============================] - 8s 364us/step - loss: 0.7024 - accuracy: 0.4954 - val_loss: 0.6941 - val_accuracy: 0.4977\n",
      "Epoch 2/10\n",
      "  448/23040 [..............................] - ETA: 9s - loss: 0.6940 - accuracy: 0.5134"
     ]
    },
    {
     "name": "stderr",
     "output_type": "stream",
     "text": [
      "/home/edoardospadetto/anaconda3/lib/python3.7/site-packages/keras/callbacks/callbacks.py:707: RuntimeWarning: Can save best model only with val_acc available, skipping.\n",
      "  'skipping.' % (self.monitor), RuntimeWarning)\n"
     ]
    },
    {
     "name": "stdout",
     "output_type": "stream",
     "text": [
      "23040/23040 [==============================] - 7s 320us/step - loss: 0.6940 - accuracy: 0.4964 - val_loss: 0.6938 - val_accuracy: 0.4977\n",
      "Epoch 3/10\n",
      "23040/23040 [==============================] - 7s 314us/step - loss: 0.6940 - accuracy: 0.5000 - val_loss: 0.6937 - val_accuracy: 0.4977\n",
      "Epoch 4/10\n",
      "23040/23040 [==============================] - 8s 345us/step - loss: 0.6940 - accuracy: 0.4979 - val_loss: 0.6940 - val_accuracy: 0.5023\n",
      "Epoch 5/10\n",
      "23040/23040 [==============================] - 7s 317us/step - loss: 0.5763 - accuracy: 0.9812 - val_loss: 0.4896 - val_accuracy: 1.0000\n",
      "Epoch 6/10\n",
      "23040/23040 [==============================] - 7s 313us/step - loss: 0.4437 - accuracy: 1.0000 - val_loss: 0.3993 - val_accuracy: 1.0000\n",
      "Epoch 7/10\n",
      "23040/23040 [==============================] - 8s 332us/step - loss: 0.3684 - accuracy: 1.0000 - val_loss: 0.3384 - val_accuracy: 1.0000\n",
      "Epoch 8/10\n",
      "23040/23040 [==============================] - 7s 318us/step - loss: 0.3166 - accuracy: 1.0000 - val_loss: 0.2954 - val_accuracy: 1.0000\n",
      "Epoch 9/10\n",
      "23040/23040 [==============================] - 8s 326us/step - loss: 0.2786 - accuracy: 1.0000 - val_loss: 0.2637 - val_accuracy: 1.0000\n",
      "Epoch 10/10\n",
      "23040/23040 [==============================] - 10s 413us/step - loss: 0.2494 - accuracy: 1.0000 - val_loss: 0.2371 - val_accuracy: 1.0000\n",
      "77.94328022003174\n"
     ]
    }
   ],
   "source": [
    "import time\n",
    "epochs = 10\n",
    "start_time = time.time()\n",
    "history = model.fit(X_train, Y_train, \n",
    "                    epochs = epochs, verbose = 1, validation_split = 0.2, batch_size = 32, shuffle = True, \n",
    "                    callbacks = [checkpoint])\n",
    "print(time.time()-start_time)"
   ]
  },
  {
   "cell_type": "markdown",
   "metadata": {},
   "source": [
    "## Let's build an LSTM NN\n",
    "\n",
    "\n"
   ]
  },
  {
   "cell_type": "code",
   "execution_count": 8,
   "metadata": {},
   "outputs": [
    {
     "name": "stdout",
     "output_type": "stream",
     "text": [
      "1025\n"
     ]
    },
    {
     "name": "stderr",
     "output_type": "stream",
     "text": [
      "/home/edoardospadetto/anaconda3/lib/python3.7/site-packages/ipykernel_launcher.py:9: UserWarning: The `dropout` argument is no longer support in `Embedding`. You can apply a `keras.layers.SpatialDropout1D` layer right after the `Embedding` layer to get the same behavior.\n",
      "  if __name__ == '__main__':\n"
     ]
    },
    {
     "name": "stdout",
     "output_type": "stream",
     "text": [
      "Model: \"sequential_2\"\n",
      "_________________________________________________________________\n",
      "Layer (type)                 Output Shape              Param #   \n",
      "=================================================================\n",
      "embedding_2 (Embedding)      (None, 200, 1)            1025      \n",
      "_________________________________________________________________\n",
      "lstm_1 (LSTM)                (None, 1)                 12        \n",
      "_________________________________________________________________\n",
      "dense_3 (Dense)              (None, 5)                 10        \n",
      "_________________________________________________________________\n",
      "dense_4 (Dense)              (None, 1)                 6         \n",
      "=================================================================\n",
      "Total params: 1,053\n",
      "Trainable params: 1,053\n",
      "Non-trainable params: 0\n",
      "_________________________________________________________________\n",
      "None\n"
     ]
    },
    {
     "data": {
      "image/png": "[encoded data removed]",
      "text/plain": [
       "<IPython.core.display.Image object>"
      ]
     },
     "execution_count": 8,
     "metadata": {},
     "output_type": "execute_result"
    }
   ],
   "source": [
    "from keras.models import Sequential\n",
    "from keras.callbacks import ModelCheckpoint\n",
    "from keras.optimizers import SGD, Adam, Adadelta, RMSprop\n",
    "from keras.layers import Conv1D, Dense, MaxPooling1D, Flatten, Dropout\n",
    "from keras.layers import Embedding, GlobalAveragePooling1D, LSTM, SimpleRNN, GRU\n",
    "from keras import regularizers\n",
    "print(vocab_size)\n",
    "model = Sequential()\n",
    "model.add(Embedding(vocab_size, 1, input_length = max_length, dropout = 0.2))\n",
    "#model.add(SimpleRNN(10, dropout = 0.2, recurrent_dropout = 0.2))  #this sucks\n",
    "model.add(LSTM(1, dropout = 0.2, recurrent_dropout = 0.2))  #totally killing it\n",
    "#model.add(Conv1D(10, dropout = 0.2, recurrent_dropout = 0.2)) \n",
    "\n",
    "model.add(Dense(5,\n",
    "                kernel_regularizer=regularizers.l2(0.01),\n",
    "                activity_regularizer=regularizers.l1(0.01)))\n",
    "model.add(Dense(1, activation = 'sigmoid'))\n",
    "\n",
    "\n",
    "model.compile(loss = 'binary_crossentropy', optimizer = 'rmsprop', metrics = ['accuracy'])\n",
    "checkpoint = ModelCheckpoint(\"weights.best.hdf5\", monitor = 'val_acc', verbose = 1, \n",
    "                             save_best_only = True, mode = 'max')\n",
    "print(model.summary())\n",
    "\n",
    "keras.utils.plot_model(model, rankdir=\"LR\",  to_file=\"Monte_Carlo_LSTM.png\")"
   ]
  },
  {
   "cell_type": "code",
   "execution_count": 10,
   "metadata": {},
   "outputs": [
    {
     "name": "stdout",
     "output_type": "stream",
     "text": [
      "Train on 23040 samples, validate on 5760 samples\n",
      "Epoch 1/5\n",
      "23040/23040 [==============================] - 132s 6ms/step - loss: 0.6988 - accuracy: 0.5066 - val_loss: 0.6937 - val_accuracy: 0.4977\n",
      "Epoch 2/5\n",
      "   32/23040 [..............................] - ETA: 2:20 - loss: 0.6942 - accuracy: 0.4375"
     ]
    },
    {
     "name": "stderr",
     "output_type": "stream",
     "text": [
      "/home/edoardospadetto/anaconda3/lib/python3.7/site-packages/keras/callbacks/callbacks.py:707: RuntimeWarning: Can save best model only with val_acc available, skipping.\n",
      "  'skipping.' % (self.monitor), RuntimeWarning)\n"
     ]
    },
    {
     "name": "stdout",
     "output_type": "stream",
     "text": [
      "23040/23040 [==============================] - 132s 6ms/step - loss: 0.6105 - accuracy: 0.8730 - val_loss: 0.4542 - val_accuracy: 0.9998\n",
      "Epoch 3/5\n",
      "23040/23040 [==============================] - 132s 6ms/step - loss: 0.4636 - accuracy: 0.8998 - val_loss: 0.3604 - val_accuracy: 0.9998\n",
      "Epoch 4/5\n",
      "23040/23040 [==============================] - 132s 6ms/step - loss: 0.4074 - accuracy: 0.8964 - val_loss: 0.3051 - val_accuracy: 0.9998\n",
      "Epoch 5/5\n",
      "23040/23040 [==============================] - 136s 6ms/step - loss: 0.3704 - accuracy: 0.9016 - val_loss: 0.2677 - val_accuracy: 0.9998\n",
      "664.2564325332642\n"
     ]
    }
   ],
   "source": [
    "epochs = 5\n",
    "start_time = time.time()\n",
    "history = model.fit(X_train, Y_train, \n",
    "                    epochs = epochs, verbose = 1, validation_split = 0.2, batch_size = 32, shuffle = True, \n",
    "                    callbacks = [checkpoint])\n",
    "\n",
    "print(time.time()-start_time)"
   ]
  },
  {
   "cell_type": "code",
   "execution_count": 11,
   "metadata": {},
   "outputs": [
    {
     "data": {
      "image/png": "[encoded data removed]",
      "text/plain": [
       "<Figure size 432x288 with 2 Axes>"
      ]
     },
     "metadata": {
      "needs_background": "light"
     },
     "output_type": "display_data"
    }
   ],
   "source": [
    "from sklearn.metrics import confusion_matrix\n",
    "import matplotlib.pyplot as plt\n",
    "import itertools\n",
    "\n",
    "predicted_labels = model.predict(X_test)\n",
    "cm = confusion_matrix(Y_test, [np.round(i[0]) for i in predicted_labels])\n",
    "cm = cm.astype('float') / cm.sum(axis = 1)[:, np.newaxis]\n",
    "\n",
    "\n",
    "\n",
    "plt.imshow(cm, cmap = plt.cm.Blues)\n",
    "plt.title('Normalized confusion matrix', fontsize = 15)\n",
    "plt.colorbar()\n",
    "plt.xlabel('True label', fontsize = 15)\n",
    "plt.ylabel('Predicted label', fontsize = 15)\n",
    "for i, j in itertools.product(range(cm.shape[0]), range(cm.shape[1])):\n",
    "    plt.text(j, i, format(cm[i, j], '.2f'),\n",
    "             horizontalalignment = 'center', verticalalignment = 'center', fontsize = 20,\n",
    "             color='white' if cm[i, j] > 0.5 else 'black')\n",
    "plt.show()"
   ]
  },
  {
   "cell_type": "code",
   "execution_count": null,
   "metadata": {},
   "outputs": [],
   "source": []
  },
  {
   "cell_type": "markdown",
   "metadata": {},
   "source": [
    "## Eigen Vector $\\lambda = 1$ is the stationary PDF "
   ]
  },
  {
   "cell_type": "code",
   "execution_count": 12,
   "metadata": {},
   "outputs": [
    {
     "name": "stdout",
     "output_type": "stream",
     "text": [
      "[0.25 0.25 0.25 0.25]\n",
      "[0.25+0.j 0.25+0.j 0.25+0.j 0.25+0.j] (0.9999999999999993+0j)\n",
      "\n",
      "[0.25 0.25 0.25 0.25]\n",
      "[0.25+0.j 0.25+0.j 0.25+0.j 0.25+0.j] (0.9999999999999993+0j)\n"
     ]
    }
   ],
   "source": [
    "#IMPORTANT -> check that the eigenvalue is 1!!\n",
    "w_e = 0 #where is the right eigenvalue? \n",
    "j_mtx_hg=np.array(j_mtx_h).T\n",
    "j_mtx_ng=np.array(j_mtx_n).T\n",
    "eigv_human= np.real(np.linalg.eig(j_mtx_hg)[1][:,w_e]/sum(np.linalg.eig(j_mtx_hg)[1][:,w_e]))\n",
    "eigv_nean= np.real(np.linalg.eig(j_mtx_ng)[1][:,w_e]/sum(np.linalg.eig(j_mtx_ng)[1][:,w_e]))\n",
    "print(eigv_nean)\n",
    "print(np.linalg.eig(j_mtx_ng)[1][:,w_e]/sum(np.linalg.eig(j_mtx_ng)[1][:,w_e]) , np.linalg.eig(j_mtx_ng)[0][w_e])\n",
    "print()\n",
    "print(eigv_human)\n",
    "print(np.linalg.eig(j_mtx_hg)[1][:,w_e]/sum(np.linalg.eig(j_mtx_hg)[1][:,w_e]) , np.linalg.eig(j_mtx_ng)[0][w_e])"
   ]
  },
  {
   "cell_type": "code",
   "execution_count": 13,
   "metadata": {},
   "outputs": [
    {
     "name": "stdout",
     "output_type": "stream",
     "text": [
      "['A', 'T', 'G', 'C']\n",
      "['A', 'C', 'T', 'G']\n",
      "[0, 1, 3, 2]\n",
      "[0.25 0.25 0.25 0.25]\n"
     ]
    },
    {
     "data": {
      "image/png": "[encoded data removed]",
      "text/plain": [
       "<Figure size 1080x504 with 2 Axes>"
      ]
     },
     "metadata": {
      "needs_background": "light"
     },
     "output_type": "display_data"
    }
   ],
   "source": [
    "#I didn't managed to make the distribution always overlap with th_prob... \n",
    "#if you found an error tell me\n",
    "\n",
    "#original order ACGT, can be changed from the hist code\n",
    "og_dict= {'A' : 0,'C':1, 'G':2, 'T':3 }\n",
    "\n",
    "tmp0 =list(dict.fromkeys(human_DNA))\n",
    "tmp1 =list(dict.fromkeys(neanderthal_DNA))\n",
    "print(tmp0)\n",
    "print(tmp1)\n",
    "#print(human_DNA[:15])\n",
    "#print(neanderthal_DNA[:15])\n",
    "\n",
    "fig,ax=plt.subplots(1,2, figsize=(15,7))\n",
    "ax[0].hist(human_DNA, alpha =0.5, label= 'human')\n",
    "ax[1].hist(neanderthal_DNA, alpha =0.5, label= 'neanderthal', color = 'orange')\n",
    "ax[0].legend()\n",
    "ax[0].scatter(range(0,len(eigv_human)),np.array(eigv_human[[og_dict[k] for k in tmp0]]*DNA_length))\n",
    "ax[1].scatter(range(0,len(eigv_nean)),eigv_nean[[og_dict[k] for k in tmp1]]*DNA_length, color = 'orange')\n",
    "ax[1].legend()\n",
    "#ax[1].set_xticklabels([\"\" ,og_dict[tm],\"\", \"C\",\"\",\"G\", \"\",\"T\"])\n",
    "print([og_dict[k] for k in tmp1])\n",
    "\n",
    "print(eigv_nean[[og_dict[k] for k in tmp1]])\n"
   ]
  },
  {
   "cell_type": "code",
   "execution_count": 14,
   "metadata": {},
   "outputs": [
    {
     "name": "stdout",
     "output_type": "stream",
     "text": [
      "[1. 1. 1. 1.]\n"
     ]
    },
    {
     "data": {
      "text/html": [
       "<div>\n",
       "<style scoped>\n",
       "    .dataframe tbody tr th:only-of-type {\n",
       "        vertical-align: middle;\n",
       "    }\n",
       "\n",
       "    .dataframe tbody tr th {\n",
       "        vertical-align: top;\n",
       "    }\n",
       "\n",
       "    .dataframe thead th {\n",
       "        text-align: right;\n",
       "    }\n",
       "</style>\n",
       "<table border=\"1\" class=\"dataframe\">\n",
       "  <thead>\n",
       "    <tr style=\"text-align: right;\">\n",
       "      <th></th>\n",
       "      <th>0</th>\n",
       "      <th>1</th>\n",
       "      <th>2</th>\n",
       "      <th>3</th>\n",
       "    </tr>\n",
       "  </thead>\n",
       "  <tbody>\n",
       "    <tr>\n",
       "      <th>0</th>\n",
       "      <td>0.25</td>\n",
       "      <td>0.25</td>\n",
       "      <td>0.25</td>\n",
       "      <td>0.25</td>\n",
       "    </tr>\n",
       "    <tr>\n",
       "      <th>1</th>\n",
       "      <td>A</td>\n",
       "      <td>C</td>\n",
       "      <td>G</td>\n",
       "      <td>T</td>\n",
       "    </tr>\n",
       "  </tbody>\n",
       "</table>\n",
       "</div>"
      ],
      "text/plain": [
       "      0     1     2     3\n",
       "0  0.25  0.25  0.25  0.25\n",
       "1     A     C     G     T"
      ]
     },
     "metadata": {},
     "output_type": "display_data"
    },
    {
     "data": {
      "text/html": [
       "<div>\n",
       "<style scoped>\n",
       "    .dataframe tbody tr th:only-of-type {\n",
       "        vertical-align: middle;\n",
       "    }\n",
       "\n",
       "    .dataframe tbody tr th {\n",
       "        vertical-align: top;\n",
       "    }\n",
       "\n",
       "    .dataframe thead th {\n",
       "        text-align: right;\n",
       "    }\n",
       "</style>\n",
       "<table border=\"1\" class=\"dataframe\">\n",
       "  <thead>\n",
       "    <tr style=\"text-align: right;\">\n",
       "      <th></th>\n",
       "      <th>0</th>\n",
       "      <th>1</th>\n",
       "      <th>2</th>\n",
       "      <th>3</th>\n",
       "    </tr>\n",
       "  </thead>\n",
       "  <tbody>\n",
       "    <tr>\n",
       "      <th>0</th>\n",
       "      <td>0.25</td>\n",
       "      <td>0.25</td>\n",
       "      <td>0.25</td>\n",
       "      <td>0.25</td>\n",
       "    </tr>\n",
       "    <tr>\n",
       "      <th>1</th>\n",
       "      <td>A</td>\n",
       "      <td>C</td>\n",
       "      <td>G</td>\n",
       "      <td>T</td>\n",
       "    </tr>\n",
       "  </tbody>\n",
       "</table>\n",
       "</div>"
      ],
      "text/plain": [
       "      0     1     2     3\n",
       "0  0.25  0.25  0.25  0.25\n",
       "1     A     C     G     T"
      ]
     },
     "metadata": {},
     "output_type": "display_data"
    }
   ],
   "source": [
    "print(np.sum(j_mtx_h, axis= 0))\n",
    "display(pd.DataFrame([eigv_human,['A','C','G','T']]))\n",
    "display(pd.DataFrame([eigv_nean,['A','C','G','T']]))"
   ]
  },
  {
   "cell_type": "code",
   "execution_count": null,
   "metadata": {},
   "outputs": [],
   "source": []
  }
 ],
 "metadata": {
  "kernelspec": {
   "display_name": "Python 3",
   "language": "python",
   "name": "python3"
  },
  "language_info": {
   "codemirror_mode": {
    "name": "ipython",
    "version": 3
   },
   "file_extension": ".py",
   "mimetype": "text/x-python",
   "name": "python",
   "nbconvert_exporter": "python",
   "pygments_lexer": "ipython3",
   "version": "3.7.4"
  }
 },
 "nbformat": 4,
 "nbformat_minor": 4
}
